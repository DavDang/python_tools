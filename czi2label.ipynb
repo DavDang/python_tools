{
 "cells": [
  {
   "cell_type": "code",
   "execution_count": 5,
   "metadata": {},
   "outputs": [],
   "source": [
    "# Tool to craw all files with a specific extension from a directory and subdirectories\n",
    "\n",
    "# Load dependancies\n",
    "from tkinter import Tk\n",
    "from tkinter.filedialog import askopenfilename\n",
    "import os\n",
    "from czifile import CziFile # Import .czi files\n",
    "import matplotlib.pyplot as plt # For plotting\n",
    "import numpy\n",
    "import numpy as np\n",
    "import cv2\n",
    "import glob # For importing multiple files"
   ]
  },
  {
   "cell_type": "code",
   "execution_count": 64,
   "metadata": {},
   "outputs": [],
   "source": [
    "select_ext = '.png'"
   ]
  },
  {
   "cell_type": "code",
   "execution_count": 6,
   "metadata": {},
   "outputs": [
    {
     "name": "stdout",
     "output_type": "stream",
     "text": [
      "/Users/daviddang/Desktop/delete/new.czi\n"
     ]
    }
   ],
   "source": [
    "Tk().withdraw() # we don't want a full GUI, so keep the root window from appearing\n",
    "filename = askopenfilename() # show an \"Open\" dialog box and return the path to the selected file\n",
    "print(filename)\n",
    "# Get path\n",
    "\n",
    "# Get base filename\n",
    "\n",
    "    # Get only filename without path or extension\n",
    "    fname_only = os.path.splitext(th_fname)[0]"
   ]
  },
  {
   "cell_type": "code",
   "execution_count": 25,
   "metadata": {},
   "outputs": [],
   "source": [
    "# Get path\n",
    "folder_selected = os.path.dirname(filename)"
   ]
  },
  {
   "cell_type": "code",
   "execution_count": 26,
   "metadata": {},
   "outputs": [
    {
     "name": "stdout",
     "output_type": "stream",
     "text": [
      "Output: ##### Create output folder called label. #####\n",
      "Output: ##### Create output folder called RGB. #####\n"
     ]
    }
   ],
   "source": [
    "# ------------------------------------------------------------------------------------------ #\n",
    "# Define Folder structure\n",
    "# Output folder\n",
    "outFolder = 'label'\n",
    "rgbFolder = 'RGB'\n",
    "\n",
    "# Check for Folder\n",
    "outFolder_full = os.path.join(folder_selected, outFolder)\n",
    "# Output\n",
    "if os.path.exists( outFolder_full ):\n",
    "    print('Output: ##### Output folder is available. #####')\n",
    "else:\n",
    "    os.makedirs( outFolder_full )\n",
    "    print('Output: ##### Create output folder called label. #####')\n",
    "\n",
    "# Check for Folder    \n",
    "rgbFolder_full = os.path.join(folder_selected, rgbFolder)\n",
    "# Output\n",
    "if os.path.exists( rgbFolder_full ):\n",
    "    print('Output: ##### Output folder is available. #####')\n",
    "else:\n",
    "    os.makedirs( rgbFolder_full )\n",
    "    print('Output: ##### Create output folder called RGB. #####')\n",
    "        \n",
    "# ------------------------------------------------------------------------------------------ #"
   ]
  },
  {
   "cell_type": "code",
   "execution_count": 7,
   "metadata": {},
   "outputs": [],
   "source": [
    "with CziFile(filename) as czi: img = czi.asarray()"
   ]
  },
  {
   "cell_type": "code",
   "execution_count": 15,
   "metadata": {},
   "outputs": [],
   "source": [
    "# Remove array with length 1\n",
    "img_trunc = numpy.squeeze(img)\n",
    "# New structure: z, x, y"
   ]
  },
  {
   "cell_type": "code",
   "execution_count": 78,
   "metadata": {},
   "outputs": [],
   "source": [
    "# Define Colormap\n",
    "# Define colormap\n",
    "cm = plt.get_cmap('jet')"
   ]
  },
  {
   "cell_type": "code",
   "execution_count": 94,
   "metadata": {},
   "outputs": [
    {
     "name": "stdout",
     "output_type": "stream",
     "text": [
      "Output: ##### Split and saved: 1 out of 4 images. #####\n",
      "Output: ##### Split and saved: 2 out of 4 images. #####\n",
      "Output: ##### Split and saved: 3 out of 4 images. #####\n",
      "Output: ##### Split and saved: 4 out of 4 images. #####\n",
      "Output: ##### Conversion completed. #####\n"
     ]
    }
   ],
   "source": [
    "n_total = len(img_trunc)\n",
    "counter = 0\n",
    "# Get only filename without path or extension\n",
    "th_fname = os.path.basename(filename)   \n",
    "fname_only = os.path.splitext(th_fname)[0]\n",
    "\n",
    "# Loop through z and save masks individually\n",
    "for ii in range (0, n_total):\n",
    "    counter = counter + 1\n",
    "    th_img = img_trunc[ii]\n",
    "    # Construct label filename\n",
    "    rename = fname_only + '_label_' + str(ii) + select_ext\n",
    "    # Save image in renamed folder\n",
    "    cv2.imwrite(os.path.join(outFolder_full, rename), th_img)\n",
    "    # Normalize label to RGB\n",
    "    norm_img = cv2.normalize(th_img, None, 0, 255, cv2.NORM_MINMAX)\n",
    "    colored_img = cm(norm_img)\n",
    "    # Scale up\n",
    "    colored_img = colored_img*255\n",
    "    # Save RGB image\n",
    "    cv2.imwrite(os.path.join(rgbFolder_full, rename), colored_img)    \n",
    "    print('Output: ##### Split and saved: %d out of %d images. #####' % (counter, n_total) )\n",
    "print('Output: ##### Conversion completed. #####')    "
   ]
  },
  {
   "cell_type": "code",
   "execution_count": null,
   "metadata": {},
   "outputs": [],
   "source": [
    "# END #"
   ]
  }
 ],
 "metadata": {
  "kernelspec": {
   "display_name": "Python 3",
   "language": "python",
   "name": "python3"
  },
  "language_info": {
   "codemirror_mode": {
    "name": "ipython",
    "version": 3
   },
   "file_extension": ".py",
   "mimetype": "text/x-python",
   "name": "python",
   "nbconvert_exporter": "python",
   "pygments_lexer": "ipython3",
   "version": "3.7.4"
  }
 },
 "nbformat": 4,
 "nbformat_minor": 2
}
