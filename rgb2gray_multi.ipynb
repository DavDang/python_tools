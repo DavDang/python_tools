{
 "cells": [
  {
   "cell_type": "code",
   "execution_count": 1,
   "metadata": {},
   "outputs": [],
   "source": [
    "# Tool to craw all files with a specific extension from a directory and subdirectories\n",
    "\n",
    "# Load dependancies\n",
    "from tkinter import filedialog\n",
    "from tkinter import * # File dialog\n",
    "import os\n",
    "import matplotlib.pyplot as plt # For plotting\n",
    "import numpy as np\n",
    "from shutil import copyfile # Copy file\n",
    "import cv2\n",
    "from skimage.color import rgb2gray\n",
    "from skimage import img_as_ubyte\n",
    "import glob # For importing multiple files\n"
   ]
  },
  {
   "cell_type": "code",
   "execution_count": 12,
   "metadata": {},
   "outputs": [],
   "source": [
    "# User input\n",
    "# user_selection = 1 (RGB2Gray)\n",
    "# user_selection = 2 (Gray2RGB)\n",
    "user_selection = 2\n",
    "\n",
    "if user_selection == 1:\n",
    "    display_selection = 'RGB2Gray'\n",
    "elif user_selection == 2:\n",
    "    display_selection = 'Gray2RGB'\n",
    "    \n",
    "# Select file type for import\n",
    "select_ext = '*.jpg'\n",
    "# Define output file type\n",
    "output_ext = '.tiff'\n",
    "# Define suffix\n",
    "suffix = '_rgb'"
   ]
  },
  {
   "cell_type": "code",
   "execution_count": 4,
   "metadata": {},
   "outputs": [],
   "source": [
    "# Get user-specific folder selection\n",
    "%gui tk\n",
    "root = Tk()\n",
    "root.withdraw()\n",
    "root.update()\n",
    "folder_selected = filedialog.askdirectory()\n",
    "root.destroy() # Destroy root window"
   ]
  },
  {
   "cell_type": "code",
   "execution_count": 6,
   "metadata": {},
   "outputs": [
    {
     "name": "stdout",
     "output_type": "stream",
     "text": [
      "Output: ##### Create label folder called converted. #####\n"
     ]
    }
   ],
   "source": [
    "# ------------------------------------------------------------------------------------------ #\n",
    "# Check for Folder\n",
    "\n",
    "# Export folder name\n",
    "export_folder_name = 'converted'\n",
    "\n",
    "\n",
    "# Path for label folder\n",
    "labelFolder = os.path.join(folder_selected, export_folder_name)\n",
    "# Export folder\n",
    "if os.path.exists( labelFolder ):\n",
    "    print('Output: ##### Export label folder is available. #####')\n",
    "else:\n",
    "    os.makedirs( labelFolder )\n",
    "    print('Output: ##### Create label folder called converted. #####')\n",
    "# ------------------------------------------------------------------------------------------ #\n"
   ]
  },
  {
   "cell_type": "code",
   "execution_count": 15,
   "metadata": {},
   "outputs": [
    {
     "name": "stdout",
     "output_type": "stream",
     "text": [
      "Output: ##### Convert Gray2RGB: 1 out of 3 images. #####\n",
      "Output: ##### Convert Gray2RGB: 2 out of 3 images. #####\n",
      "Output: ##### Convert Gray2RGB: 3 out of 3 images. #####\n",
      "Output: ##### Conversion completed. #####\n"
     ]
    }
   ],
   "source": [
    "# Preallocate list\n",
    "image_list = []\n",
    "# Preallocate counter\n",
    "counter = 0\n",
    "# Obtain total number of images\n",
    "n_total = len( glob.glob(os.path.join(folder_selected, select_ext)) )\n",
    "\n",
    "for filename in glob.glob( os.path.join(folder_selected, select_ext) ):\n",
    "    counter = counter + 1\n",
    "    # Get filname without extension\n",
    "    th_fname = os.path.splitext(os.path.basename(filename))[0]\n",
    "    # Load image\n",
    "    img = cv2.imread(filename)\n",
    "    # Swap BGR to RGB\n",
    "    img = cv2.cvtColor(img, cv2.COLOR_BGR2RGB)\n",
    "    if user_selection == 1:\n",
    "        img_conv = cv2.cvtColor(img, cv2.COLOR_RGB2GRAY)\n",
    "    elif user_selection == 2:\n",
    "        img_conv = img\n",
    "        \n",
    "    ### Export \n",
    "    # Object mask\n",
    "    cv2.imwrite(os.path.join(labelFolder, th_fname + suffix + output_ext), img_conv)\n",
    "    ### Print output\n",
    "    print('Output: ##### Convert ' + display_selection + ': %d out of %d images. #####' % (counter, n_total) ) \n",
    "    \n",
    "print('Output: ##### Conversion completed. #####')"
   ]
  },
  {
   "cell_type": "code",
   "execution_count": 14,
   "metadata": {},
   "outputs": [
    {
     "data": {
      "text/plain": [
       "(758, 950, 3)"
      ]
     },
     "execution_count": 14,
     "metadata": {},
     "output_type": "execute_result"
    }
   ],
   "source": [
    "img.shape"
   ]
  },
  {
   "cell_type": "code",
   "execution_count": null,
   "metadata": {},
   "outputs": [],
   "source": []
  }
 ],
 "metadata": {
  "kernelspec": {
   "display_name": "Python 3",
   "language": "python",
   "name": "python3"
  },
  "language_info": {
   "codemirror_mode": {
    "name": "ipython",
    "version": 3
   },
   "file_extension": ".py",
   "mimetype": "text/x-python",
   "name": "python",
   "nbconvert_exporter": "python",
   "pygments_lexer": "ipython3",
   "version": "3.7.5"
  }
 },
 "nbformat": 4,
 "nbformat_minor": 2
}
