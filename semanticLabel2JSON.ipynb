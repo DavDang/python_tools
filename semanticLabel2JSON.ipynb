{
 "cells": [
  {
   "cell_type": "markdown",
   "metadata": {},
   "source": [
    "# semanticLabel2JSON\n",
    "\n",
    "Create a .JSON file from a semeantic label mask. The following folder structure is crucial:\n",
    "\n",
    "    SELECTED MAIN FOLDER\n",
    "     -img_1\n",
    "     -img_n\n",
    "      |-mask\n",
    "        -mask_1\n",
    "        -mask_n\n",
    " "
   ]
  },
  {
   "cell_type": "code",
   "execution_count": null,
   "metadata": {},
   "outputs": [],
   "source": [
    "# Tool to convert Label to JSON\n",
    "\n",
    "# Load dependancies\n",
    "from tkinter import filedialog\n",
    "from tkinter import * # File dialog\n",
    "import os\n",
    "import matplotlib.pyplot as plt # For plotting\n",
    "import numpy as np\n",
    "from shutil import copyfile # Copy file\n",
    "import cv2\n",
    "from skimage.color import rgb2gray\n",
    "from skimage import img_as_ubyte\n",
    "from skimage import measure\n",
    "from skimage.measure import approximate_polygon\n",
    "import glob # For importing multiple files\n",
    "import json"
   ]
  },
  {
   "cell_type": "code",
   "execution_count": 2,
   "metadata": {},
   "outputs": [],
   "source": [
    "# User input\n",
    "# Folder structure:\n",
    "\n",
    "# -- SELECTED MAIN FOLDER\n",
    "#    img_1\n",
    "#    img_n\n",
    "#    -- mask\n",
    "#       mask_1\n",
    "#       mask_n\n",
    "\n",
    "# Select file type for import\n",
    "select_ext = '*.png'\n",
    "# Define output file type\n",
    "output_ext = '.JSON'\n",
    "# Define suffix\n",
    "suffix = '_label'\n",
    "\n",
    "# Object profile\n",
    "prof = 'PROFILE'\n",
    "obj_prof = 'hollow'\n",
    "\n",
    "# Quality\n",
    "qual = 'QUALITY'\n",
    "obj_qual = 'good' # == 1\n",
    "# Remaining are bad == 0\n",
    "\n",
    "# Binary class == 1l\n",
    "binary_class = 1"
   ]
  },
  {
   "cell_type": "code",
   "execution_count": 3,
   "metadata": {},
   "outputs": [],
   "source": [
    "# Get user-specific folder selection\n",
    "%gui tk\n",
    "root = Tk()\n",
    "root.withdraw()\n",
    "root.update()\n",
    "folder_selected = filedialog.askdirectory()\n",
    "root.destroy() # Destroy root window"
   ]
  },
  {
   "cell_type": "code",
   "execution_count": 4,
   "metadata": {},
   "outputs": [],
   "source": [
    "# Search for mask folder\n",
    "folder_selected_mask = os.path.join(folder_selected, 'mask')\n",
    "# Create a list with all loaded files (both lists should be synchronised. Solution: Sorting by name)\n",
    "listFiles = sorted(glob.glob( os.path.join(folder_selected, select_ext) ) )\n",
    "listFiles_mask = sorted( glob.glob( os.path.join(folder_selected_mask, select_ext) ) )"
   ]
  },
  {
   "cell_type": "code",
   "execution_count": 5,
   "metadata": {},
   "outputs": [],
   "source": [
    "# Create a mask only with 1 class\n",
    "# If multiple classes, loop through 1 class first (all contours in 1 class)\n",
    "# then over images\n",
    "\n",
    "\n",
    "\n"
   ]
  },
  {
   "cell_type": "code",
   "execution_count": 6,
   "metadata": {},
   "outputs": [],
   "source": [
    "f_img = listFiles_mask[0]\n",
    "f_img = cv2.imread(f_img)\n",
    "# Find unique RGB values for classes (not working for 1 color color)\n",
    "uniques = np.unique(f_img.reshape(-1, f_img.shape[-1]), axis=0)\n",
    "# If binary class, assign number of classes to 1\n",
    "if len(uniques) == 256:\n",
    "    num_classes = 1\n",
    "    # Use pseudo color for binary class (create tuples)\n",
    "    # uniques = [ (0,0,0), (255,255,255) ]\n",
    "    # Remove black color (reserved for background)\n",
    "    colors_trunc = [ (255,255,255) ]\n",
    "    \n",
    "else:\n",
    "    # Number of classes\n",
    "    num_classes = len(uniques)\n",
    "    # Remove black color (reserved for background)\n",
    "    colors_trunc = np.delete(uniques, (0), axis=0)\n",
    "    # Convert array to tuple\n",
    "    colors_trunc = [tuple(x) for x in colors_trunc.tolist()]"
   ]
  },
  {
   "cell_type": "code",
   "execution_count": 7,
   "metadata": {},
   "outputs": [
    {
     "data": {
      "text/plain": [
       "<matplotlib.image.AxesImage at 0x1c23276a90>"
      ]
     },
     "execution_count": 7,
     "metadata": {},
     "output_type": "execute_result"
    },
    {
     "data": {
      "image/png": "[encoded data removed]",
      "text/plain": [
       "<Figure size 432x288 with 1 Axes>"
      ]
     },
     "metadata": {
      "needs_background": "light"
     },
     "output_type": "display_data"
    }
   ],
   "source": [
    "plt.imshow(f_img, cmap='gray')"
   ]
  },
  {
   "cell_type": "code",
   "execution_count": 8,
   "metadata": {},
   "outputs": [],
   "source": [
    "#listFiles_mask[0]"
   ]
  },
  {
   "cell_type": "code",
   "execution_count": 9,
   "metadata": {},
   "outputs": [
    {
     "data": {
      "text/plain": [
       "2"
      ]
     },
     "execution_count": 9,
     "metadata": {},
     "output_type": "execute_result"
    }
   ],
   "source": [
    "num_classes"
   ]
  },
  {
   "cell_type": "code",
   "execution_count": 10,
   "metadata": {},
   "outputs": [
    {
     "name": "stdout",
     "output_type": "stream",
     "text": [
      "Output: ##### Create JSON-dict: 1 out of 2 images. #####\n",
      "Output: ##### Create JSON-dict: 2 out of 2 images. #####\n",
      "Output: ##### JSON-file saved. #####\n"
     ]
    },
    {
     "data": {
      "image/png": "[encoded data removed]",
      "text/plain": [
       "<Figure size 432x288 with 1 Axes>"
      ]
     },
     "metadata": {
      "needs_background": "light"
     },
     "output_type": "display_data"
    }
   ],
   "source": [
    "# FINAL\n",
    "\n",
    "# Loop through images\n",
    "    # Loop through regions\n",
    "    # Craete JSON dict\n",
    "\n",
    "counter = 0\n",
    "\n",
    "# Set k for child contour\n",
    "k = -1\n",
    "\n",
    "# Get number of images from list\n",
    "n_img = len(listFiles)\n",
    "main_dict = {}  \n",
    "for ii in range (0, n_img):\n",
    "    counter = counter + 1\n",
    "    # Get file path from list\n",
    "    filename = listFiles_mask[ii]\n",
    "    # Get filename from original file\n",
    "    filename_orig = listFiles[ii]\n",
    "    # Read image\n",
    "    img = cv2.imread(filename)\n",
    "    # Get file size - needed for JSON\n",
    "    f_size = os.path.getsize(filename_orig)\n",
    "    # Get filname without path\n",
    "    th_fname = os.path.basename(filename_orig)\n",
    "    # Swap BGR to RGB\n",
    "    t_img = cv2.cvtColor(img, cv2.COLOR_BGR2RGB)\n",
    "    \n",
    "    # Find unique RGB values for classes\n",
    "    uniques = np.unique(t_img.reshape(-1, t_img.shape[-1]), axis=0)\n",
    "    # Number of classes\n",
    "    num_classes = len(uniques)\n",
    "    \n",
    "    # Obtain binary image by applying simple Threshold\n",
    "    ret, thres_img = cv2.threshold(cv2.cvtColor(t_img, cv2.COLOR_RGB2GRAY),\n",
    "                0, 255, cv2.THRESH_BINARY)\n",
    "    \n",
    "    ### Pre-processing: Remove 5 pixel particles\n",
    "\n",
    "    # Find all your connected components (white blobs)\n",
    "    nb_components, output, stats, centroids = cv2.connectedComponentsWithStats(thres_img, connectivity=8)\n",
    "    # connectedComponentswithStats yields every seperated component with information on each of them, such as size\n",
    "    # the following part is just taking out the background which is also considered a component, but most of the time we don't want that.\n",
    "    sizes = stats[1:, -1]; nb_components = nb_components - 1\n",
    "\n",
    "    # minimum size of particles we want to keep (number of pixels)\n",
    "    min_size = 100  \n",
    "\n",
    "    # Create new image excluding small particles\n",
    "    bw1 = np.zeros((output.shape), np.uint8)\n",
    "    #for every component in the image, you keep it only if it's above min_size\n",
    "    for i in range(0, nb_components):\n",
    "        if sizes[i] >= min_size:\n",
    "            bw1[output == i + 1] = 255\n",
    "            \n",
    "    kernel_eros = np.ones((3,3),np.uint8)\n",
    "    eros_bw = cv2.erode(bw1,kernel_eros,iterations = 1)\n",
    "    ### Pre-processing: Use Dilation to close small gaps with foreground boundary\n",
    "    kernel_dil = np.ones((2,2),np.uint8)\n",
    "    dil_bw = cv2.dilate(eros_bw,kernel_dil,iterations = 1)\n",
    "    ### Pre-processing: Close tiny wholes in foreground object\n",
    "    kernel_cls = np.ones((3,3),np.uint8)\n",
    "    clean_bw = cv2.morphologyEx(dil_bw, cv2.MORPH_CLOSE, kernel_cls)\n",
    "    plt.imshow(clean_bw)\n",
    "    \n",
    "    export_label = clean_bw.copy()\n",
    "    export_label[export_label==255] = 1\n",
    "    # Export image\n",
    "    export_label = export_label.astype(int)\n",
    "    cv2.imwrite(os.path.join(filename), export_label)\n",
    "    \n",
    "    # Retrieves all of the contours and reconstructs a full hierarchy of nested contours\n",
    "    #contours, hier = cv2.findContours(clean_bw, cv2.RETR_TREE, cv2.CHAIN_APPROX_SIMPLE)\n",
    "    # Take external contours only\n",
    "    contours, hier = cv2.findContours(clean_bw, cv2.RETR_EXTERNAL, cv2.CHAIN_APPROX_SIMPLE)\n",
    "    \n",
    "\n",
    "    # Get number of contours\n",
    "    n_contour = len(contours)\n",
    "    \n",
    "    # Preallocate empty dict\n",
    "    region_dict = {}\n",
    "    \n",
    "    # Loop through contour in th-image\n",
    "    for jj in range (0, n_contour):\n",
    "        # Create empty canvas\n",
    "        mask_cont = np.zeros(thres_img.shape,np.uint8)\n",
    "        # Draw contours\n",
    "        objectID = -1\n",
    "        # For fill use -1, for line use 1\n",
    "        line_thickness = 1\n",
    "        # Set max value for contour\n",
    "        contour_col = 255\n",
    "        # Burn contour on mask\n",
    "        cv2.drawContours(mask_cont, contours, objectID, contour_col, line_thickness)\n",
    "        \n",
    "        \n",
    "        # Use Post-Processing to get a cleaner border \n",
    "        \n",
    "        # kernel_dil2 = np.ones((5,5), np.uint8)\n",
    "        # mask_cont = cv2.dilate(mask_cont, kernel_dil2, iterations = 3)\n",
    "        # mask_cont = cv2.erode(mask_cont, kernel_dil2, iterations=3)\n",
    "        # mask_cont = skeletonize(mask_cont/255)\n",
    "        # contours_temp, hier_temp = cv2.findContours((mask_cont*255).astype(np.uint8), cv2.RETR_EXTERNAL, cv2.CHAIN_APPROX_SIMPLE)\n",
    "        # mask_temp = np.zeros(t_img.shape,np.uint8)\n",
    "        # cv2.drawContours(mask_temp, contours_temp, -1, 255, 2)\n",
    "        \n",
    "        # Get contour coordinates by keeping only non-zero values\n",
    "        pixelpoints = np.transpose(np.nonzero(mask_cont))\n",
    "        # pixelpoints column structure: X-Y\n",
    "        # Flip columns to Y-X (for images)\n",
    "        #y_coord = pixelpoints[:,0].tolist()\n",
    "        #x_coord = pixelpoints[:,1].tolist()\n",
    "\n",
    "        # OR:\n",
    "        th_cont = contours[jj]\n",
    "        th_cont = np.squeeze(th_cont)\n",
    "        x_coord = th_cont[:,0].tolist()\n",
    "        y_coord = th_cont[:,1].tolist()\n",
    "        # (trunctated) dict for regions which will be added to the main JSON file ANNOTATION under 'regions'\n",
    "        reg = {\n",
    "            str(jj): {\n",
    "              \"shape_attributes\": {\n",
    "                \"name\": \"polygon\",\n",
    "                \"all_points_x\": x_coord,\n",
    "                \"all_points_y\": y_coord,\n",
    "              },\n",
    "              \"region_attributes\": {}\n",
    "            }\n",
    "        }\n",
    "        region_dict.update(reg)\n",
    "    \n",
    "    # Main dict for JSON file for th-image\n",
    "    annotation = {\n",
    "        th_fname + str(f_size): {\n",
    "        \"fileref\": \"\",\n",
    "        \"size\": f_size,\n",
    "        \"filename\": th_fname,\n",
    "        \"base64_img_data\": \"\",\n",
    "        \"file_attributes\": {},\n",
    "        \"regions\": region_dict\n",
    "        }\n",
    "    }\n",
    "    # Add main dict with all 'regions' (with x-y coordinates for polygons)\n",
    "    main_dict.update(annotation)\n",
    "    ### Print output\n",
    "    print('Output: ##### Create JSON-dict: %d out of %d images. #####' % (counter, n_img) ) \n",
    "    \n",
    "print('Output: ##### JSON-file saved. #####')\n",
    "#print('Exported: ' + folder_selected)\n",
    "\n",
    "# print(json.dumps(annotation, indent=4)) # JSON file won't overwrite\n",
    "with open(os.path.join(folder_selected, 'via_region_data.json'), 'w', encoding='utf-8') as output_file:\n",
    "    json.dump(main_dict, output_file, ensure_ascii=False, indent=4) \n"
   ]
  },
  {
   "cell_type": "code",
   "execution_count": null,
   "metadata": {},
   "outputs": [
    {
     "data": {
      "text/html": [
       "<script>Jupyter.notebook.kernel.restart()</script>"
      ]
     },
     "metadata": {},
     "output_type": "display_data"
    }
   ],
   "source": [
    "## RESTART KERNEL AFTER EACH PROFILE\n",
    "\n",
    "\n",
    "# Restart kernel after each session (bug with tkinter when executing more than once in jupyter notebook)\n",
    "from IPython.display import display_html\n",
    "def restartkernel() :\n",
    "    display_html(\"<script>Jupyter.notebook.kernel.restart()</script>\",raw=True)\n",
    "    \n",
    "restartkernel()"
   ]
  },
  {
   "cell_type": "code",
   "execution_count": null,
   "metadata": {},
   "outputs": [],
   "source": []
  }
 ],
 "metadata": {
  "kernelspec": {
   "display_name": "Python [conda env:myenv]",
   "language": "python",
   "name": "conda-env-myenv-py"
  },
  "language_info": {
   "codemirror_mode": {
    "name": "ipython",
    "version": 3
   },
   "file_extension": ".py",
   "mimetype": "text/x-python",
   "name": "python",
   "nbconvert_exporter": "python",
   "pygments_lexer": "ipython3",
   "version": "3.7.4"
  }
 },
 "nbformat": 4,
 "nbformat_minor": 2
}
