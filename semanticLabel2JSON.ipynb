{
 "cells": [
  {
   "cell_type": "code",
   "execution_count": 1,
   "metadata": {},
   "outputs": [],
   "source": [
    "# Tool to craw all files with a specific extension from a directory and subdirectories\n",
    "\n",
    "# Load dependancies\n",
    "from tkinter import filedialog\n",
    "from tkinter import * # File dialog\n",
    "import os\n",
    "import matplotlib.pyplot as plt # For plotting\n",
    "import numpy as np\n",
    "from shutil import copyfile # Copy file\n",
    "import cv2\n",
    "from skimage.color import rgb2gray\n",
    "from skimage import img_as_ubyte\n",
    "from skimage import measure\n",
    "from skimage.measure import approximate_polygon\n",
    "import glob # For importing multiple files\n",
    "import json"
   ]
  },
  {
   "cell_type": "code",
   "execution_count": 2,
   "metadata": {},
   "outputs": [],
   "source": [
    "# User input\n",
    "\n",
    "# Select file type for import\n",
    "select_ext = '*.png'\n",
    "# Define output file type\n",
    "output_ext = '.JSON'\n",
    "# Define suffix\n",
    "suffix = '_label'\n",
    "\n",
    "# Object profile\n",
    "prof = 'PROFILE'\n",
    "obj_prof = 'hollow'\n",
    "\n",
    "# Quality\n",
    "qual = 'QUALITY'\n",
    "obj_qual = 'good' # == 1\n",
    "# Remaining are bad == 0\n",
    "\n",
    "# Binary class == 1l\n",
    "binary_class = 1"
   ]
  },
  {
   "cell_type": "code",
   "execution_count": 3,
   "metadata": {},
   "outputs": [],
   "source": [
    "# Get user-specific folder selection\n",
    "%gui tk\n",
    "root = Tk()\n",
    "root.withdraw()\n",
    "root.update()\n",
    "folder_selected = filedialog.askdirectory()\n",
    "root.destroy() # Destroy root window"
   ]
  },
  {
   "cell_type": "code",
   "execution_count": 4,
   "metadata": {},
   "outputs": [],
   "source": [
    "# Create a list with all loaded files\n",
    "listFiles = glob.glob( os.path.join(folder_selected, select_ext) )"
   ]
  },
  {
   "cell_type": "code",
   "execution_count": 5,
   "metadata": {},
   "outputs": [],
   "source": [
    "# Create a mask only with 1 class\n",
    "# If multiple classes, loop through 1 class first (all contours in 1 class)\n",
    "# then over images\n",
    "\n",
    "\n",
    "\n"
   ]
  },
  {
   "cell_type": "code",
   "execution_count": 6,
   "metadata": {},
   "outputs": [],
   "source": [
    "f_img = listFiles[0]\n",
    "f_img = cv2.imread(f_img)\n",
    "# Find unique RGB values for classes (not working for 1 color color)\n",
    "uniques = np.unique(f_img.reshape(-1, f_img.shape[-1]), axis=0)\n",
    "# If binary class, assign number of calsses to 1\n",
    "if len(uniques) == 256:\n",
    "    num_classes = 1\n",
    "    # Use pseudo color for binary class (create tuples)\n",
    "    # uniques = [ (0,0,0), (255,255,255) ]\n",
    "    # Remove black color (reserved for background)\n",
    "    colors_trunc = [ (255,255,255) ]\n",
    "    \n",
    "else:\n",
    "    # Number of classes\n",
    "    num_classes = len(uniques)\n",
    "    # Remove black color (reserved for background)\n",
    "    colors_trunc = np.delete(uniques, (0), axis=0)\n",
    "    # Convert array to tuple\n",
    "    colors_trunc = [tuple(x) for x in colors_trunc.tolist()]"
   ]
  },
  {
   "cell_type": "code",
   "execution_count": 7,
   "metadata": {},
   "outputs": [
    {
     "data": {
      "text/plain": [
       "2"
      ]
     },
     "execution_count": 7,
     "metadata": {},
     "output_type": "execute_result"
    }
   ],
   "source": [
    "num_classes"
   ]
  },
  {
   "cell_type": "code",
   "execution_count": 8,
   "metadata": {},
   "outputs": [
    {
     "name": "stdout",
     "output_type": "stream",
     "text": [
      "Output: ##### Create JSON-dict: 1 out of 1 images. #####\n",
      "Output: ##### JSON-file saved. #####\n"
     ]
    }
   ],
   "source": [
    "# FINAL\n",
    "\n",
    "# Loop through images\n",
    "    # Loop through regions\n",
    "    # Craete JSON dict\n",
    "\n",
    "counter = 0\n",
    "\n",
    "# Set k for child contour\n",
    "k = -1\n",
    "\n",
    "# Get number of images from list\n",
    "n_img = len(listFiles)\n",
    "main_dict = {}  \n",
    "for ii in range (0, n_img):\n",
    "    counter = counter + 1\n",
    "    # Get file path from list\n",
    "    filename = listFiles[ii]\n",
    "    # Read image\n",
    "    img = cv2.imread(filename)\n",
    "    # Get file size - needed for JSON\n",
    "    f_size = os.path.getsize(filename)\n",
    "    # Get filname without path\n",
    "    th_fname = os.path.basename(filename)\n",
    "    # Swap BGR to RGB\n",
    "    t_img = cv2.cvtColor(img, cv2.COLOR_BGR2RGB)\n",
    "    \n",
    "    # Find unique RGB values for classes\n",
    "    uniques = np.unique(t_img.reshape(-1, t_img.shape[-1]), axis=0)\n",
    "    # Number of classes\n",
    "    num_classes = len(uniques)\n",
    "    \n",
    "    # Obtain binary image by applying simple Threshold\n",
    "    ret, thres_img = cv2.threshold(cv2.cvtColor(t_img, cv2.COLOR_RGB2GRAY),\n",
    "                0, 255, cv2.THRESH_BINARY)\n",
    "    \n",
    "    ### Pre-processing: Remove 5 pixel particles\n",
    "\n",
    "    # Find all your connected components (white blobs)\n",
    "    nb_components, output, stats, centroids = cv2.connectedComponentsWithStats(thres_img, connectivity=8)\n",
    "    # connectedComponentswithStats yields every seperated component with information on each of them, such as size\n",
    "    # the following part is just taking out the background which is also considered a component, but most of the time we don't want that.\n",
    "    sizes = stats[1:, -1]; nb_components = nb_components - 1\n",
    "\n",
    "    # minimum size of particles we want to keep (number of pixels)\n",
    "    #here, it's a fixed value, but you can set it as you want, eg the mean of the sizes or whatever\n",
    "    min_size = 5  \n",
    "\n",
    "    # Create new image excluding small particles\n",
    "    bw1 = np.zeros((output.shape), np.uint8)\n",
    "    #for every component in the image, you keep it only if it's above min_size\n",
    "    for i in range(0, nb_components):\n",
    "        if sizes[i] >= min_size:\n",
    "            bw1[output == i + 1] = 255\n",
    "    ### Pre-processing: Use Dilation to close small gaps with foreground boundary\n",
    "    kernel_dil = np.ones((2,2),np.uint8)\n",
    "    dil_bw = cv2.dilate(bw1,kernel_dil,iterations = 1)\n",
    "    ### Pre-processing: Close tiny wholes in foreground object\n",
    "    kernel_cls = np.ones((2,2),np.uint8)\n",
    "    clean_bw = cv2.morphologyEx(dil_bw, cv2.MORPH_CLOSE, kernel_cls)\n",
    "        \n",
    "    # Retrieves all of the contours and reconstructs a full hierarchy of nested contours\n",
    "    #contours, hier = cv2.findContours(clean_bw, cv2.RETR_TREE, cv2.CHAIN_APPROX_SIMPLE)\n",
    "    # Take external contours only\n",
    "    contours, hier = cv2.findContours(clean_bw, cv2.RETR_EXTERNAL, cv2.CHAIN_APPROX_SIMPLE)\n",
    "    \n",
    "\n",
    "    # Get number of contours\n",
    "    n_contour = len(contours)\n",
    "    \n",
    "    # Preallocate empty dict\n",
    "    region_dict = {}\n",
    "    \n",
    "    # Loop through contour in th-image\n",
    "    for jj in range (0, n_contour):\n",
    "        # Create empty canvas\n",
    "        mask_cont = np.zeros(thres_img.shape,np.uint8)\n",
    "        # Draw contours\n",
    "        objectID = -1\n",
    "        # For fill use -1, for line use 1\n",
    "        line_thickness = 1\n",
    "        # Set max value for contour\n",
    "        contour_col = 255\n",
    "        # Burn contour on mask\n",
    "        cv2.drawContours(mask_cont, contours, objectID, contour_col, line_thickness)\n",
    "        \n",
    "        \n",
    "        # Use Post-Processing to get a cleaner border \n",
    "        \n",
    "        # kernel_dil2 = np.ones((5,5), np.uint8)\n",
    "        # mask_cont = cv2.dilate(mask_cont, kernel_dil2, iterations = 3)\n",
    "        # mask_cont = cv2.erode(mask_cont, kernel_dil2, iterations=3)\n",
    "        # mask_cont = skeletonize(mask_cont/255)\n",
    "        # contours_temp, hier_temp = cv2.findContours((mask_cont*255).astype(np.uint8), cv2.RETR_EXTERNAL, cv2.CHAIN_APPROX_SIMPLE)\n",
    "        # mask_temp = np.zeros(t_img.shape,np.uint8)\n",
    "        # cv2.drawContours(mask_temp, contours_temp, -1, 255, 2)\n",
    "        \n",
    "        # Get contour coordinates by keeping only non-zero values\n",
    "        pixelpoints = np.transpose(np.nonzero(mask_cont))\n",
    "        # pixelpoints column structure: X-Y\n",
    "        # Flip columns to Y-X (for images)\n",
    "        #y_coord = pixelpoints[:,0].tolist()\n",
    "        #x_coord = pixelpoints[:,1].tolist()\n",
    "\n",
    "        # OR:\n",
    "        th_cont = contours[jj]\n",
    "        th_cont = np.squeeze(th_cont)\n",
    "        x_coord = th_cont[:,0].tolist()\n",
    "        y_coord = th_cont[:,1].tolist()\n",
    "        # (trunctated) dict for regions which will be added to the main JSON file ANNOTATION under 'regions'\n",
    "        reg = {\n",
    "            str(jj): {\n",
    "              \"shape_attributes\": {\n",
    "                \"name\": \"polygon\",\n",
    "                \"all_points_x\": x_coord,\n",
    "                \"all_points_y\": y_coord,\n",
    "              },\n",
    "              \"region_attributes\": {}\n",
    "            }\n",
    "        }\n",
    "        region_dict.update(reg)\n",
    "    \n",
    "    # Main dict for JSON file for th-image\n",
    "    annotation = {\n",
    "        th_fname + str(f_size): {\n",
    "        \"fileref\": \"\",\n",
    "        \"size\": f_size,\n",
    "        \"filename\": th_fname,\n",
    "        \"base64_img_data\": \"\",\n",
    "        \"file_attributes\": {},\n",
    "        \"regions\": region_dict\n",
    "        }\n",
    "    }\n",
    "    # Add main dict with all 'regions' (with x-y coordinates for polygons)\n",
    "    main_dict.update(annotation)\n",
    "    ### Print output\n",
    "    print('Output: ##### Create JSON-dict: %d out of %d images. #####' % (counter, n_img) ) \n",
    "    \n",
    "print('Output: ##### JSON-file saved. #####')\n",
    "\n",
    "\n",
    "# print(json.dumps(annotation, indent=4))\n",
    "with open(os.path.join(folder_selected, 'via_region_data.json'), 'w', encoding='utf-8') as output_file:\n",
    "    json.dump(main_dict, output_file, ensure_ascii=False, indent=4) \n"
   ]
  },
  {
   "cell_type": "code",
   "execution_count": 93,
   "metadata": {},
   "outputs": [
    {
     "ename": "NameError",
     "evalue": "name 'thresh_img' is not defined",
     "output_type": "error",
     "traceback": [
      "\u001b[0;31m---------------------------------------------------------------------------\u001b[0m",
      "\u001b[0;31mNameError\u001b[0m                                 Traceback (most recent call last)",
      "\u001b[0;32m<ipython-input-93-aab50b98637f>\u001b[0m in \u001b[0;36m<module>\u001b[0;34m\u001b[0m\n\u001b[0;32m----> 1\u001b[0;31m \u001b[0mplt\u001b[0m\u001b[0;34m.\u001b[0m\u001b[0mimshow\u001b[0m\u001b[0;34m(\u001b[0m\u001b[0mthresh_img\u001b[0m\u001b[0;34m)\u001b[0m\u001b[0;34m\u001b[0m\u001b[0;34m\u001b[0m\u001b[0m\n\u001b[0m",
      "\u001b[0;31mNameError\u001b[0m: name 'thresh_img' is not defined"
     ]
    }
   ],
   "source": [
    "plt.imshow(thresh_img)"
   ]
  },
  {
   "cell_type": "code",
   "execution_count": 168,
   "metadata": {},
   "outputs": [],
   "source": [
    "mask_cont1 = np.zeros(clean_bw.shape,np.uint8)\n",
    "\n",
    "contours1, hier = cv2.findContours(clean_bw, cv2.RETR_TREE, cv2.CHAIN_APPROX_SIMPLE)\n",
    "# Draw all contours, and their children, with different colors\n",
    "k = -1\n",
    "for i in range (30):\n",
    "    if (hier[0, i, 3] == -1):\n",
    "        k += 1\n",
    "    cv2.drawContours(mask_cont1, contours1[i], -1, 255, 2)"
   ]
  },
  {
   "cell_type": "code",
   "execution_count": 96,
   "metadata": {},
   "outputs": [
    {
     "data": {
      "text/plain": [
       "33"
      ]
     },
     "execution_count": 96,
     "metadata": {},
     "output_type": "execute_result"
    }
   ],
   "source": [
    "len(cnt_all)"
   ]
  },
  {
   "cell_type": "code",
   "execution_count": 99,
   "metadata": {},
   "outputs": [],
   "source": [
    "th_cont = contours[0]\n",
    "th_cont = np.squeeze(th_cont)\n",
    "x_coord = th_cont[:,0].tolist()\n",
    "y_coord = th_cont[:,1].tolist()"
   ]
  },
  {
   "cell_type": "code",
   "execution_count": 166,
   "metadata": {},
   "outputs": [
    {
     "data": {
      "text/plain": [
       "array([[0, 0, 0, ..., 0, 0, 0],\n",
       "       [0, 0, 0, ..., 0, 0, 0],\n",
       "       [0, 0, 0, ..., 0, 0, 0],\n",
       "       ...,\n",
       "       [0, 0, 0, ..., 0, 0, 0],\n",
       "       [0, 0, 0, ..., 0, 0, 0],\n",
       "       [0, 0, 0, ..., 0, 0, 0]], dtype=uint8)"
      ]
     },
     "execution_count": 166,
     "metadata": {},
     "output_type": "execute_result"
    }
   ],
   "source": [
    "mask_cont = np.zeros(clean_bw.shape,np.uint8)\n",
    "cv2.drawContours(mask_cont, contours[jj], -1, contour_col, line_thickness)"
   ]
  },
  {
   "cell_type": "code",
   "execution_count": 169,
   "metadata": {},
   "outputs": [
    {
     "data": {
      "text/plain": [
       "<matplotlib.image.AxesImage at 0x13a2f6590>"
      ]
     },
     "execution_count": 169,
     "metadata": {},
     "output_type": "execute_result"
    },
    {
     "data": {
      "image/png": "[encoded data removed]",
      "text/plain": [
       "<Figure size 1296x1296 with 1 Axes>"
      ]
     },
     "metadata": {
      "needs_background": "light"
     },
     "output_type": "display_data"
    }
   ],
   "source": [
    "\n",
    "plt.figure(figsize=(18,18))\n",
    "plt.imshow(mask_cont1)"
   ]
  },
  {
   "cell_type": "code",
   "execution_count": 144,
   "metadata": {},
   "outputs": [
    {
     "data": {
      "text/plain": [
       "'/Users/daviddang/Dropbox/Zeiss/python_tools/temp/test/real_data'"
      ]
     },
     "execution_count": 144,
     "metadata": {},
     "output_type": "execute_result"
    }
   ],
   "source": [
    "folder_selected"
   ]
  },
  {
   "cell_type": "code",
   "execution_count": 145,
   "metadata": {},
   "outputs": [
    {
     "data": {
      "text/plain": [
       "'/Users/daviddang/Dropbox/Zeiss/python_tools/temp/test/real_data/data_full.json'"
      ]
     },
     "execution_count": 145,
     "metadata": {},
     "output_type": "execute_result"
    }
   ],
   "source": [
    "os.path.join(folder_selected, 'data_full.json')"
   ]
  },
  {
   "cell_type": "code",
   "execution_count": 205,
   "metadata": {},
   "outputs": [],
   "source": [
    "t_img = cv2.imread('/Users/daviddang/Dropbox/Zeiss/python_tools/temp/test/test_real/mask (5).png', 0)\n",
    "\n",
    "\n",
    "contours1, hier1 = cv2.findContours(t_img, cv2.RETR_TREE, cv2.CHAIN_APPROX_SIMPLE)"
   ]
  },
  {
   "cell_type": "code",
   "execution_count": 268,
   "metadata": {},
   "outputs": [
    {
     "name": "stdout",
     "output_type": "stream",
     "text": [
      "1\n",
      "xxxxxx %d 7\n",
      "xxxxxx %d 3\n",
      "xxxxxx %d 1\n",
      "xxxxxx %d 1\n",
      "xxxxxx %d 1\n",
      "2\n",
      "xxxxxx %d 7\n",
      "xxxxxx %d 2\n",
      "xxxxxx %d 1\n",
      "xxxxxx %d 3\n",
      "xxxxxx %d 1\n"
     ]
    },
    {
     "data": {
      "image/png": "[encoded data removed]",
      "text/plain": [
       "<Figure size 1080x1080 with 1 Axes>"
      ]
     },
     "metadata": {
      "needs_background": "light"
     },
     "output_type": "display_data"
    },
    {
     "data": {
      "image/png": "[encoded data removed]",
      "text/plain": [
       "<Figure size 1080x1080 with 1 Axes>"
      ]
     },
     "metadata": {
      "needs_background": "light"
     },
     "output_type": "display_data"
    },
    {
     "data": {
      "image/png": "[encoded data removed]",
      "text/plain": [
       "<Figure size 1080x1080 with 1 Axes>"
      ]
     },
     "metadata": {
      "needs_background": "light"
     },
     "output_type": "display_data"
    },
    {
     "data": {
      "image/png": "[encoded data removed]",
      "text/plain": [
       "<Figure size 1080x1080 with 1 Axes>"
      ]
     },
     "metadata": {
      "needs_background": "light"
     },
     "output_type": "display_data"
    },
    {
     "data": {
      "image/png": "[encoded data removed]",
      "text/plain": [
       "<Figure size 1080x1080 with 1 Axes>"
      ]
     },
     "metadata": {
      "needs_background": "light"
     },
     "output_type": "display_data"
    },
    {
     "data": {
      "image/png": "[encoded data removed]",
      "text/plain": [
       "<Figure size 1080x1080 with 1 Axes>"
      ]
     },
     "metadata": {
      "needs_background": "light"
     },
     "output_type": "display_data"
    },
    {
     "data": {
      "image/png": "[encoded data removed]",
      "text/plain": [
       "<Figure size 1080x1080 with 1 Axes>"
      ]
     },
     "metadata": {
      "needs_background": "light"
     },
     "output_type": "display_data"
    },
    {
     "data": {
      "image/png": "[encoded data removed]",
      "text/plain": [
       "<Figure size 1080x1080 with 1 Axes>"
      ]
     },
     "metadata": {
      "needs_background": "light"
     },
     "output_type": "display_data"
    },
    {
     "data": {
      "image/png": "[encoded data removed]",
      "text/plain": [
       "<Figure size 1080x1080 with 1 Axes>"
      ]
     },
     "metadata": {
      "needs_background": "light"
     },
     "output_type": "display_data"
    },
    {
     "data": {
      "image/png": "[encoded data removed]",
      "text/plain": [
       "<Figure size 1080x1080 with 1 Axes>"
      ]
     },
     "metadata": {
      "needs_background": "light"
     },
     "output_type": "display_data"
    }
   ],
   "source": [
    "num_file = round(len(contours1) / 2)\n",
    "import time\n",
    "merged_contour = 0\n",
    "# Loop through contour in th-image\n",
    "for kk in range (0, len(contours1)):\n",
    "    # Create empty canvas\n",
    "    mask = np.zeros(t_img.shape,np.uint8)\n",
    "    # Draw contours\n",
    "    objectID = -1\n",
    "    # For fill use -1, for line use 1\n",
    "    line_thickness = 2\n",
    "    # Set max value for contour\n",
    "    contour_col = 255\n",
    "    # If-statement\n",
    "    if (hier1[0, kk, 3] == -1):\n",
    "        k += 1\n",
    "        merged_contour = merged_contour + 1\n",
    "        print(merged_contour)\n",
    " # cv2.drawContours(mask_cont1, contours1[i], -1, 255, 2)\n",
    "    # Burn contour on mask\n",
    "    cv2.drawContours(mask, contours1[kk], objectID, contour_col, line_thickness)\n",
    "    \n",
    "    # \n",
    "    kernel_dil2 = np.ones((5,5), np.uint8)\n",
    "    mask = cv2.dilate(mask, kernel_dil2, iterations = 3)\n",
    "    mask = cv2.erode( mask, kernel_dil2, iterations=3)\n",
    "    mask = skeletonize(mask/255)\n",
    "    contours_temp, hier_temp = cv2.findContours((mask*255).astype(np.uint8), cv2.RETR_EXTERNAL, cv2.CHAIN_APPROX_SIMPLE)\n",
    "    print('xxxxxx %d', len(contours_temp))\n",
    "    mask_temp = np.zeros(t_img.shape,np.uint8)\n",
    "    cv2.drawContours(mask_temp, contours_temp, -1, 255, 2)\n",
    "    #mask = skeletonize(mask/255)\n",
    "\n",
    "    # Get contour coordinates by keeping only non-zero values\n",
    "    pixelpoints = np.transpose(np.nonzero(mask))\n",
    "    # pixelpoints column structure: X-Y\n",
    "    # Flip columns to Y-X (for images)\n",
    "    #y_coord = pixelpoints[:,0].tolist()\n",
    "    #x_coord = pixelpoints[:,1].tolist()\n",
    "    #print('qqqq %d', kk)\n",
    "    # plt.figure(figsize=(15,15))\n",
    "    # plt.imshow(mask_temp)\n",
    "    # time.sleep(0.01)\n",
    "     # OR:\n",
    "    #th_cont = contours_temp\n",
    "    #th_cont = np.squeeze(th_cont)\n",
    "    #x_coord = th_cont[:,0].tolist()\n",
    "    #y_coord = th_cont[:,1].tolist()\n",
    "    \n",
    "    \n",
    "    plt.figure(figsize=(15,15))\n",
    "    plt.imshow(mask_temp)\n",
    "    plt.scatter(x_coord, y_coord)\n",
    "    time.sleep(0.01)\n",
    "    \n",
    "    "
   ]
  },
  {
   "cell_type": "code",
   "execution_count": 259,
   "metadata": {
    "scrolled": true
   },
   "outputs": [
    {
     "data": {
      "text/plain": [
       "7"
      ]
     },
     "execution_count": 259,
     "metadata": {},
     "output_type": "execute_result"
    }
   ],
   "source": [
    "len(contours_temp)"
   ]
  },
  {
   "cell_type": "code",
   "execution_count": 224,
   "metadata": {},
   "outputs": [
    {
     "data": {
      "text/plain": [
       "<matplotlib.image.AxesImage at 0x146585990>"
      ]
     },
     "execution_count": 224,
     "metadata": {},
     "output_type": "execute_result"
    },
    {
     "data": {
      "image/png": "[encoded data removed]",
      "text/plain": [
       "<Figure size 1080x1080 with 1 Axes>"
      ]
     },
     "metadata": {
      "needs_background": "light"
     },
     "output_type": "display_data"
    }
   ],
   "source": [
    "### Pre-processing: Close tiny wholes in foreground object\n",
    "kernel_cls = np.ones((2,2),np.uint8)\n",
    "t_img = cv2.morphologyEx(t_img, cv2.MORPH_CLOSE, kernel_cls)\n",
    "plt.figure(figsize=(15,15))\n",
    "plt.imshow(t_img)"
   ]
  },
  {
   "cell_type": "code",
   "execution_count": 225,
   "metadata": {},
   "outputs": [],
   "source": [
    "contours1, hier1 = cv2.findContours(t_img, cv2.RETR_TREE, cv2.CHAIN_APPROX_SIMPLE)"
   ]
  },
  {
   "cell_type": "code",
   "execution_count": 226,
   "metadata": {},
   "outputs": [
    {
     "data": {
      "text/plain": [
       "10"
      ]
     },
     "execution_count": 226,
     "metadata": {},
     "output_type": "execute_result"
    }
   ],
   "source": [
    "len(contours1)"
   ]
  },
  {
   "cell_type": "code",
   "execution_count": 234,
   "metadata": {},
   "outputs": [],
   "source": [
    "import scipy\n",
    "from skimage.morphology import skeletonize\n",
    "\n",
    "binary_smoothed = scipy.signal.medfilt (t_img, 3)"
   ]
  },
  {
   "cell_type": "code",
   "execution_count": 223,
   "metadata": {},
   "outputs": [
    {
     "data": {
      "text/plain": [
       "<matplotlib.image.AxesImage at 0x1494a15d0>"
      ]
     },
     "execution_count": 223,
     "metadata": {},
     "output_type": "execute_result"
    },
    {
     "data": {
      "image/png": "[encoded data removed]",
      "text/plain": [
       "<Figure size 1080x1080 with 1 Axes>"
      ]
     },
     "metadata": {
      "needs_background": "light"
     },
     "output_type": "display_data"
    }
   ],
   "source": [
    "plt.figure(figsize=(15,15))\n",
    "plt.imshow(binary_smoothed)"
   ]
  },
  {
   "cell_type": "code",
   "execution_count": 245,
   "metadata": {},
   "outputs": [
    {
     "data": {
      "text/plain": [
       "dtype('bool')"
      ]
     },
     "execution_count": 245,
     "metadata": {},
     "output_type": "execute_result"
    }
   ],
   "source": [
    "mask.dtype"
   ]
  },
  {
   "cell_type": "code",
   "execution_count": null,
   "metadata": {},
   "outputs": [],
   "source": []
  },
  {
   "cell_type": "code",
   "execution_count": 282,
   "metadata": {},
   "outputs": [
    {
     "ename": "error",
     "evalue": "OpenCV(4.1.1) /Users/travis/build/skvark/opencv-python/opencv/modules/imgproc/src/drawing.cpp:2509: error: (-215:Assertion failed) npoints > 0 in function 'drawContours'\n",
     "output_type": "error",
     "traceback": [
      "\u001b[0;31m---------------------------------------------------------------------------\u001b[0m",
      "\u001b[0;31merror\u001b[0m                                     Traceback (most recent call last)",
      "\u001b[0;32m<ipython-input-282-580ba3afcdea>\u001b[0m in \u001b[0;36m<module>\u001b[0;34m\u001b[0m\n\u001b[1;32m     15\u001b[0m     \u001b[0;32mif\u001b[0m \u001b[0;34m(\u001b[0m\u001b[0mhier\u001b[0m\u001b[0;34m[\u001b[0m\u001b[0;36m0\u001b[0m\u001b[0;34m,\u001b[0m \u001b[0mi\u001b[0m\u001b[0;34m,\u001b[0m \u001b[0;36m3\u001b[0m\u001b[0;34m]\u001b[0m \u001b[0;34m==\u001b[0m \u001b[0;34m-\u001b[0m\u001b[0;36m1\u001b[0m\u001b[0;34m)\u001b[0m\u001b[0;34m:\u001b[0m\u001b[0;34m\u001b[0m\u001b[0;34m\u001b[0m\u001b[0m\n\u001b[1;32m     16\u001b[0m         \u001b[0mk\u001b[0m \u001b[0;34m+=\u001b[0m \u001b[0;36m1\u001b[0m\u001b[0;34m\u001b[0m\u001b[0;34m\u001b[0m\u001b[0m\n\u001b[0;32m---> 17\u001b[0;31m     \u001b[0mcv2\u001b[0m\u001b[0;34m.\u001b[0m\u001b[0mdrawContours\u001b[0m\u001b[0;34m(\u001b[0m\u001b[0mout\u001b[0m\u001b[0;34m,\u001b[0m \u001b[0mcontours\u001b[0m\u001b[0;34m[\u001b[0m\u001b[0mi\u001b[0m\u001b[0;34m]\u001b[0m\u001b[0;34m,\u001b[0m \u001b[0;34m-\u001b[0m\u001b[0;36m1\u001b[0m\u001b[0;34m,\u001b[0m \u001b[0mcolors\u001b[0m\u001b[0;34m[\u001b[0m\u001b[0mk\u001b[0m\u001b[0;34m]\u001b[0m\u001b[0;34m,\u001b[0m \u001b[0;36m2\u001b[0m\u001b[0;34m)\u001b[0m\u001b[0;34m\u001b[0m\u001b[0;34m\u001b[0m\u001b[0m\n\u001b[0m\u001b[1;32m     18\u001b[0m \u001b[0;34m\u001b[0m\u001b[0m\n\u001b[1;32m     19\u001b[0m \u001b[0mplt\u001b[0m\u001b[0;34m.\u001b[0m\u001b[0mimshow\u001b[0m\u001b[0;34m(\u001b[0m\u001b[0mout\u001b[0m\u001b[0;34m)\u001b[0m\u001b[0;34m\u001b[0m\u001b[0;34m\u001b[0m\u001b[0m\n",
      "\u001b[0;31merror\u001b[0m: OpenCV(4.1.1) /Users/travis/build/skvark/opencv-python/opencv/modules/imgproc/src/drawing.cpp:2509: error: (-215:Assertion failed) npoints > 0 in function 'drawContours'\n"
     ]
    }
   ],
   "source": [
    "import cv2\n",
    "from skimage import io         # Only needed for web grabbing images, use cv2.imread for local images\n",
    "\n",
    "# Read image; find contours with hierarchy\n",
    "blob = io.imread('https://i.stack.imgur.com/Ga5Pe.png')\n",
    "contours, hier = cv2.findContours(blob, cv2.RETR_TREE, cv2.CHAIN_APPROX_SIMPLE)\n",
    "\n",
    "# Define sufficient enough colors for blobs\n",
    "colors = [(255, 0, 0), (0, 255, 0), (0, 0, 255)]\n",
    "contours = contours[-1]\n",
    "# Draw all contours, and their children, with different colors\n",
    "out = cv2.cvtColor(blob, cv2.COLOR_GRAY2BGR)\n",
    "k = -1\n",
    "for i, cnt in enumerate(contours):\n",
    "    if (hier[0, i, 3] == -1):\n",
    "        k += 1\n",
    "    cv2.drawContours(out, contours[i], -1, colors[k], 2)\n",
    "\n",
    "plt.imshow(out)"
   ]
  },
  {
   "cell_type": "code",
   "execution_count": 280,
   "metadata": {},
   "outputs": [],
   "source": [
    "contours = contours[-2]"
   ]
  },
  {
   "cell_type": "code",
   "execution_count": 285,
   "metadata": {},
   "outputs": [
    {
     "data": {
      "text/plain": [
       "'/Users/daviddang/Dropbox/Zeiss/python_tools/temp/test/real_data'"
      ]
     },
     "execution_count": 285,
     "metadata": {},
     "output_type": "execute_result"
    }
   ],
   "source": [
    "folder_selected"
   ]
  },
  {
   "cell_type": "code",
   "execution_count": null,
   "metadata": {},
   "outputs": [],
   "source": []
  }
 ],
 "metadata": {
  "kernelspec": {
   "display_name": "Python 3",
   "language": "python",
   "name": "python3"
  },
  "language_info": {
   "codemirror_mode": {
    "name": "ipython",
    "version": 3
   },
   "file_extension": ".py",
   "mimetype": "text/x-python",
   "name": "python",
   "nbconvert_exporter": "python",
   "pygments_lexer": "ipython3",
   "version": "3.7.5"
  }
 },
 "nbformat": 4,
 "nbformat_minor": 2
}
