{
 "cells": [
  {
   "cell_type": "code",
   "execution_count": 12,
   "metadata": {},
   "outputs": [],
   "source": [
    "# Tool to rename multiple filenames with a running index and identifier"
   ]
  },
  {
   "cell_type": "code",
   "execution_count": 30,
   "metadata": {},
   "outputs": [],
   "source": [
    "# Load dependancies\n",
    "import os\n",
    "import glob # For importing multiple files\n",
    "from tkinter import filedialog\n",
    "from tkinter import * # File dialog\n",
    "import cv2"
   ]
  },
  {
   "cell_type": "code",
   "execution_count": 27,
   "metadata": {},
   "outputs": [],
   "source": [
    "# Select file type\n",
    "select_ext = '*.png'\n",
    "# Define Identifier\n",
    "ident = 'Z'"
   ]
  },
  {
   "cell_type": "code",
   "execution_count": 6,
   "metadata": {},
   "outputs": [],
   "source": [
    "# Get user-specific folder selection\n",
    "root = Tk()\n",
    "root.withdraw()\n",
    "folder_selected = filedialog.askdirectory()\n",
    "# root.destroy() # Destroy root window"
   ]
  },
  {
   "cell_type": "code",
   "execution_count": 36,
   "metadata": {},
   "outputs": [
    {
     "name": "stdout",
     "output_type": "stream",
     "text": [
      "Output: ##### Output folder is available. #####\n"
     ]
    }
   ],
   "source": [
    "# ------------------------------------------------------------------------------------------ #\n",
    "# Define Folder structure\n",
    "# Output folder\n",
    "outFolder = 'renamed'\n",
    "\n",
    "# Check for Folder\n",
    "outFolder_full = os.path.join(folder_selected, outFolder)\n",
    "# Output\n",
    "if os.path.exists( outFolder_full ):\n",
    "    print('Output: ##### Output folder is available. #####')\n",
    "else:\n",
    "    os.makedirs( outFolder_full )\n",
    "    print('Output: ##### Create output folder called renamed. #####')\n",
    "# ------------------------------------------------------------------------------------------ #"
   ]
  },
  {
   "cell_type": "code",
   "execution_count": 40,
   "metadata": {},
   "outputs": [
    {
     "name": "stdout",
     "output_type": "stream",
     "text": [
      "Output: ##### Renamed and saved: 1 out of 2 images. #####\n",
      "Output: ##### Renamed and saved: 2 out of 2 images. #####\n",
      "Output: ##### Renaming files complete. #####\n"
     ]
    }
   ],
   "source": [
    "counter = 0\n",
    "n_total = len( glob.glob(os.path.join(folder_selected, select_ext)) )\n",
    "\n",
    "for filename in glob.glob( os.path.join(folder_selected, select_ext) ):\n",
    "    counter = counter + 1\n",
    "   # Load image\n",
    "    img = cv2.imread(filename)\n",
    "    # Obtain filename\n",
    "    th_fname = os.path.basename(filename)   \n",
    "    # Get only filename without path or extension\n",
    "    fname_only = os.path.splitext(th_fname)[0]\n",
    "    # Get original extension\n",
    "    orig_ext = os.path.splitext(th_fname)[1]\n",
    "    # Add prefix\n",
    "    prefix = '_' + ident + str(counter)\n",
    "    # Construct rename\n",
    "    rename = fname_only + prefix + orig_ext\n",
    "    # Save image in renamed folder\n",
    "    cv2.imwrite(os.path.join(outFolder_full, rename), img)\n",
    "    print('Output: ##### Renamed and saved: %d out of %d images. #####' % (counter, n_total) ) \n",
    "    \n",
    "print('Output: ##### Renaming files complete. #####')"
   ]
  }
 ],
 "metadata": {
  "kernelspec": {
   "display_name": "Python 3",
   "language": "python",
   "name": "python3"
  },
  "language_info": {
   "codemirror_mode": {
    "name": "ipython",
    "version": 3
   },
   "file_extension": ".py",
   "mimetype": "text/x-python",
   "name": "python",
   "nbconvert_exporter": "python",
   "pygments_lexer": "ipython3",
   "version": "3.7.5"
  }
 },
 "nbformat": 4,
 "nbformat_minor": 2
}
