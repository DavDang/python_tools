{
 "cells": [
  {
   "cell_type": "code",
   "execution_count": 1,
   "metadata": {},
   "outputs": [],
   "source": [
    "# Customized script for invista (Converting 3 classes into 2 and save \n",
    "# the coordinates of the third class as a list/bounding box)\n",
    "\n",
    "# INPUT: Semantic label (select folder with semantic mask)\n",
    "\n",
    "# Load dependancies\n",
    "from tkinter import filedialog\n",
    "from tkinter import * # File dialog\n",
    "import os\n",
    "import matplotlib.pyplot as plt # For plotting\n",
    "import numpy as np\n",
    "from shutil import copyfile # Copy file\n",
    "import cv2\n",
    "import imutils\n",
    "from skimage.color import rgb2gray\n",
    "from skimage import img_as_ubyte\n",
    "import glob # For importing multiple files\n",
    "import csv"
   ]
  },
  {
   "cell_type": "code",
   "execution_count": 2,
   "metadata": {},
   "outputs": [],
   "source": [
    "# User input\n",
    "\n",
    "# Select file type for import\n",
    "select_ext = '*.png'\n",
    "# Define output file type\n",
    "output_ext = '.png'\n",
    "# Define suffix\n",
    "suffix = ''\n",
    "# Marker class (Specify the value assigned for markers e.g. bg:1, fg:2, marker:3)\n",
    "marker = 3\n",
    "# Set foreground class\n",
    "fg = 1\n",
    "# Set 1 if flip 0 to 1 or vice versa\n",
    "user_flip = 1"
   ]
  },
  {
   "cell_type": "code",
   "execution_count": 3,
   "metadata": {},
   "outputs": [],
   "source": [
    "# Get user-specific folder selection\n",
    "%gui tk\n",
    "root = Tk()\n",
    "root.withdraw()\n",
    "root.update()\n",
    "folder_selected = filedialog.askdirectory()\n",
    "root.destroy() # Destroy root window"
   ]
  },
  {
   "cell_type": "code",
   "execution_count": 4,
   "metadata": {},
   "outputs": [
    {
     "name": "stdout",
     "output_type": "stream",
     "text": [
      "Output: ##### Create label folder called semantic_label. #####\n"
     ]
    }
   ],
   "source": [
    "# ------------------------------------------------------------------------------------------ #\n",
    "# Check for Folder\n",
    "\n",
    "# Export folder name\n",
    "export_folder_name = 'semantic_label'\n",
    "\n",
    "\n",
    "# Path for label folder\n",
    "labelFolder = os.path.join(folder_selected, export_folder_name)\n",
    "# Export folder\n",
    "if os.path.exists( labelFolder ):\n",
    "    print('Output: ##### Export label folder is available. #####')\n",
    "else:\n",
    "    os.makedirs( labelFolder )\n",
    "    print('Output: ##### Create label folder called semantic_label. #####')\n",
    "# ------------------------------------------------------------------------------------------ #\n"
   ]
  },
  {
   "cell_type": "code",
   "execution_count": 5,
   "metadata": {},
   "outputs": [],
   "source": [
    "listFiles = sorted(glob.glob( os.path.join(folder_selected, select_ext)))"
   ]
  },
  {
   "cell_type": "code",
   "execution_count": 6,
   "metadata": {},
   "outputs": [],
   "source": [
    "# Preallocate variables\n",
    "list_obj = []\n",
    "# Define header for list\n",
    "header = ['image_id', 'filename', 'object_id', 'centroid_x', 'centroid_y']\n",
    "list_obj.append(header)\n",
    "# Define Kernel to remove very small particles which causes erros when obtaining centroids\n",
    "kernel = np.ones((2,2),np.uint8)\n",
    "# Set counter\n",
    "counter = 0\n",
    "# Total number of images\n",
    "n_total = len( glob.glob(os.path.join(folder_selected, select_ext)) )"
   ]
  },
  {
   "cell_type": "code",
   "execution_count": 7,
   "metadata": {},
   "outputs": [
    {
     "name": "stdout",
     "output_type": "stream",
     "text": [
      "Output: ##### Export re-assigned Label: 1 out of 20 images. #####\n",
      "Output: ##### Export re-assigned Label: 2 out of 20 images. #####\n",
      "Output: ##### Export re-assigned Label: 3 out of 20 images. #####\n",
      "Output: ##### Export re-assigned Label: 4 out of 20 images. #####\n",
      "Output: ##### Export re-assigned Label: 5 out of 20 images. #####\n",
      "Output: ##### Export re-assigned Label: 6 out of 20 images. #####\n",
      "Output: ##### Export re-assigned Label: 7 out of 20 images. #####\n",
      "Output: ##### Export re-assigned Label: 8 out of 20 images. #####\n",
      "Output: ##### Export re-assigned Label: 9 out of 20 images. #####\n",
      "Output: ##### Export re-assigned Label: 10 out of 20 images. #####\n",
      "Output: ##### Export re-assigned Label: 11 out of 20 images. #####\n",
      "Output: ##### Export re-assigned Label: 12 out of 20 images. #####\n",
      "Output: ##### Export re-assigned Label: 13 out of 20 images. #####\n",
      "Output: ##### Export re-assigned Label: 14 out of 20 images. #####\n",
      "Output: ##### Export re-assigned Label: 15 out of 20 images. #####\n",
      "Output: ##### Export re-assigned Label: 16 out of 20 images. #####\n",
      "Output: ##### Export re-assigned Label: 17 out of 20 images. #####\n",
      "Output: ##### Export re-assigned Label: 18 out of 20 images. #####\n",
      "Output: ##### Export re-assigned Label: 19 out of 20 images. #####\n",
      "Output: ##### Export re-assigned Label: 20 out of 20 images. #####\n",
      "Output: ##### Exporting files complete. #####\n",
      "/Users/daviddang/Dropbox/Zeiss/customer_projects/invista/LABELS/delta_small/mask/semantic_label\n"
     ]
    }
   ],
   "source": [
    "for ii in range(0, n_total):\n",
    "    counter = counter + 1\n",
    "    # Get filename with path\n",
    "    filename = listFiles[ii]\n",
    "    # Import as grayscale (for semantic label)\n",
    "    img = cv2.imread(filename, 0)\n",
    "    # Obtain filename\n",
    "    th_fname = os.path.basename(filename) \n",
    "    # Get only filename without path or extension\n",
    "    fname_only = os.path.splitext(th_fname)[0]\n",
    "    \n",
    "    ### Extract Markers and save them in a separate image\n",
    "    # Save centroid of good objects in a list and export it later to csv\n",
    "    good_obj = img.copy()\n",
    "    good_obj[good_obj < marker] = 0\n",
    "    # Convert to binary image\n",
    "    ret,thresh = cv2.threshold(good_obj,0,255,0)\n",
    "    \n",
    "    ### Pre-procesing: Remove objects that are 1x1 pixel small (via erosion)\n",
    "    erosion = cv2.erode(thresh,kernel,iterations = 1)\n",
    "\n",
    "    ### Obtain centroids\n",
    "    # find contours in the cleaned thresholded image\n",
    "    cnts = cv2.findContours(erosion, cv2.RETR_EXTERNAL, cv2.CHAIN_APPROX_SIMPLE)\n",
    "    cnts = imutils.grab_contours(cnts)\n",
    "\n",
    "    # loop over the contours (resets after each image)\n",
    "    obj_id = 0\n",
    "    for c in cnts:\n",
    "        # Increment index for object id\n",
    "        obj_id = obj_id + 1\n",
    "        # compute the center of the contour\n",
    "        M = cv2.moments(c)\n",
    "        cX = int(M[\"m10\"] / M[\"m00\"])\n",
    "        cY = int(M[\"m01\"] / M[\"m00\"])\n",
    "        row = [counter, th_fname, obj_id, cX, cY]\n",
    "        list_obj.append(row)\n",
    "\n",
    "    \n",
    "    ### Re-assign marker class to object/foreground class (fg)\n",
    "    new_img = img.copy()\n",
    "    new_img = new_img.astype(int)\n",
    "    a = new_img.copy()\n",
    "    new_img[new_img == marker] = fg\n",
    "    \n",
    "    # Re-assign background from 1 to 0\n",
    "    if new_img.min() != 0:\n",
    "        # Shift all classes so that BG becomes 0\n",
    "        img_shift = new_img - 1\n",
    "    else:\n",
    "        # Do nothing\n",
    "        img_shift = new_img\n",
    "    \n",
    "    # Convert image to int\n",
    "    \n",
    "    #img_shift = img_shift.astype(int)\n",
    "    \n",
    "    if user_flip == 1:\n",
    "        # Flip 0 to 1 and 1 to 0\n",
    "        img_shift = 1 - img_shift\n",
    "    ### Export\n",
    "    # Construct rename\n",
    "    rename = fname_only + suffix + output_ext\n",
    "    # Save image in renamed folder\n",
    "    cv2.imwrite(os.path.join(labelFolder, rename), img_shift)\n",
    "    print('Output: ##### Export re-assigned Label: %d out of %d images. #####' % (counter, n_total) ) \n",
    "    \n",
    "print('Output: ##### Exporting files complete. #####')\n",
    "print(labelFolder)\n",
    "\n",
    "### Export excel file    \n",
    "# Use 'w' instead of 'wb' for strings\n",
    "with open(os.path.join(labelFolder, \"centroid_good_obj.csv\"), 'w') as resultFile:\n",
    "    wr = csv.writer(resultFile, dialect='excel')\n",
    "    wr.writerows(list_obj)"
   ]
  },
  {
   "cell_type": "code",
   "execution_count": 8,
   "metadata": {},
   "outputs": [
    {
     "data": {
      "text/plain": [
       "1"
      ]
     },
     "execution_count": 8,
     "metadata": {},
     "output_type": "execute_result"
    },
    {
     "data": {
      "image/png": "[encoded data removed]",
      "text/plain": [
       "<Figure size 432x288 with 1 Axes>"
      ]
     },
     "metadata": {
      "needs_background": "light"
     },
     "output_type": "display_data"
    }
   ],
   "source": [
    "### Testing re-assignment of classes\n",
    "plt.imshow(img_shift)\n",
    "img_shift.min()\n",
    "img_shift.max()"
   ]
  },
  {
   "cell_type": "code",
   "execution_count": 9,
   "metadata": {},
   "outputs": [],
   "source": [
    "new_img = np.zeros(img.shape, dtype=np.int)\n",
    "new_img[new_img == marker] = fg\n",
    "img_shift = new_img - 1"
   ]
  }
 ],
 "metadata": {
  "kernelspec": {
   "display_name": "Python [conda env:myenv]",
   "language": "python",
   "name": "conda-env-myenv-py"
  },
  "language_info": {
   "codemirror_mode": {
    "name": "ipython",
    "version": 3
   },
   "file_extension": ".py",
   "mimetype": "text/x-python",
   "name": "python",
   "nbconvert_exporter": "python",
   "pygments_lexer": "ipython3",
   "version": "3.7.4"
  }
 },
 "nbformat": 4,
 "nbformat_minor": 2
}
