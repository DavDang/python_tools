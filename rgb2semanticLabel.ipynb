{
 "cells": [
  {
   "cell_type": "code",
   "execution_count": 1,
   "metadata": {},
   "outputs": [],
   "source": [
    "# Tool to craw all files with a specific extension from a directory and subdirectories\n",
    "\n",
    "# Load dependancies\n",
    "from tkinter import filedialog\n",
    "from tkinter import * # File dialog\n",
    "import os\n",
    "import matplotlib.pyplot as plt # For plotting\n",
    "import numpy as np\n",
    "from shutil import copyfile # Copy file\n",
    "import cv2\n",
    "from skimage.color import rgb2gray\n",
    "from skimage import img_as_ubyte\n",
    "import glob # For importing multiple files\n"
   ]
  },
  {
   "cell_type": "code",
   "execution_count": 39,
   "metadata": {},
   "outputs": [],
   "source": [
    "# User input\n",
    "\n",
    "# Select file type for import\n",
    "select_ext = '*.png'\n",
    "# Define output file type\n",
    "output_ext = '.png'\n",
    "# Define suffix\n",
    "suffix = '_label'"
   ]
  },
  {
   "cell_type": "code",
   "execution_count": null,
   "metadata": {},
   "outputs": [],
   "source": [
    "# ALL DEFINED FUNCTIONS\n",
    "\n",
    "\n",
    "# Read out all directories and files\n",
    "def getListOfFiles(dirName):\n",
    "    # create a list of file and sub directories \n",
    "    # names in the given directory \n",
    "    listOfFile = os.listdir(dirName)\n",
    "    allFiles = list()\n",
    "    # Iterate over all the entries\n",
    "    for entry in listOfFile:\n",
    "        # Create full path\n",
    "        fullPath = os.path.join(dirName, entry)\n",
    "        # If entry is a directory then get the list of files in this directory \n",
    "        if os.path.isdir(fullPath):\n",
    "            allFiles = allFiles + getListOfFiles(fullPath)\n",
    "        else:\n",
    "            allFiles.append(fullPath)\n",
    "                \n",
    "    return allFiles"
   ]
  },
  {
   "cell_type": "code",
   "execution_count": 2,
   "metadata": {},
   "outputs": [],
   "source": [
    "# Get user-specific folder selection\n",
    "%gui tk\n",
    "root = Tk()\n",
    "root.withdraw()\n",
    "root.update()\n",
    "folder_selected = filedialog.askdirectory()\n",
    "root.destroy() # Destroy root window"
   ]
  },
  {
   "cell_type": "code",
   "execution_count": 3,
   "metadata": {},
   "outputs": [
    {
     "name": "stdout",
     "output_type": "stream",
     "text": [
      "Output: ##### Create label folder called semantic_label. #####\n"
     ]
    }
   ],
   "source": [
    "# ------------------------------------------------------------------------------------------ #\n",
    "# Check for Folder\n",
    "\n",
    "# Export folder name\n",
    "export_folder_name = 'semantic_label'\n",
    "\n",
    "\n",
    "# Path for label folder\n",
    "labelFolder = os.path.join(folder_selected, export_folder_name)\n",
    "# Export folder\n",
    "if os.path.exists( labelFolder ):\n",
    "    print('Output: ##### Export label folder is available. #####')\n",
    "else:\n",
    "    os.makedirs( labelFolder )\n",
    "    print('Output: ##### Create label folder called semantic_label. #####')\n",
    "# ------------------------------------------------------------------------------------------ #\n"
   ]
  },
  {
   "cell_type": "code",
   "execution_count": 40,
   "metadata": {},
   "outputs": [
    {
     "name": "stdout",
     "output_type": "stream",
     "text": [
      "Output: ##### Convert RGB to semantic label: 1 out of 2 images. #####\n",
      "Output: ##### Convert RGB to semantic label: 2 out of 2 images. #####\n",
      "Output: ##### Conversion completed. #####\n"
     ]
    }
   ],
   "source": [
    "# Preallocate list\n",
    "image_list = []\n",
    "# Preallocate counter\n",
    "counter = 0\n",
    "# Obtain total number of images\n",
    "n_total = len( glob.glob(os.path.join(folder_selected, select_ext)) )\n",
    "\n",
    "for filename in glob.glob( os.path.join(folder_selected, select_ext) ):\n",
    "    counter = counter + 1\n",
    "    # Get filname without extension\n",
    "    th_fname = os.path.splitext(os.path.basename(filename))[0]\n",
    "    # Load image\n",
    "    img = cv2.imread(filename)\n",
    "    # Swap BGR to RGB\n",
    "    img = cv2.cvtColor(img, cv2.COLOR_BGR2RGB)\n",
    "    \n",
    "    # Find unique RGB values for classes\n",
    "    uniques = np.unique(img.reshape(-1, img.shape[-1]), axis=0)\n",
    "    # Number of classes\n",
    "    num_classes = len(uniques)\n",
    "    \n",
    "    # Preallocate int-canvas\n",
    "    label_seg = np.zeros((img.shape[:2]), dtype=np.int)\n",
    "    \n",
    "    for ii in range (0, num_classes):\n",
    "        label_seg[(img==uniques[ii]).all(axis=2)] = ii\n",
    " \n",
    "    ### Export \n",
    "    # Object mask\n",
    "    cv2.imwrite(os.path.join(labelFolder, th_fname + suffix + output_ext), label_seg)\n",
    "    ### Print output\n",
    "    print('Output: ##### Convert RGB to semantic label: %d out of %d images. #####' % (counter, n_total) ) \n",
    "    \n",
    "print('Output: ##### Conversion completed. #####')"
   ]
  },
  {
   "cell_type": "code",
   "execution_count": null,
   "metadata": {},
   "outputs": [],
   "source": []
  }
 ],
 "metadata": {
  "kernelspec": {
   "display_name": "Python 3",
   "language": "python",
   "name": "python3"
  },
  "language_info": {
   "codemirror_mode": {
    "name": "ipython",
    "version": 3
   },
   "file_extension": ".py",
   "mimetype": "text/x-python",
   "name": "python",
   "nbconvert_exporter": "python",
   "pygments_lexer": "ipython3",
   "version": "3.7.5"
  }
 },
 "nbformat": 4,
 "nbformat_minor": 2
}
