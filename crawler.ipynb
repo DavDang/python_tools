{
 "cells": [
  {
   "cell_type": "code",
   "execution_count": 1,
   "metadata": {},
   "outputs": [],
   "source": [
    "# Tool to craw all files with a specific extension from a directory and subdirectories\n",
    "\n",
    "# Load dependancies\n",
    "from tkinter import filedialog\n",
    "from tkinter import * # File dialog\n",
    "from tkinter import messagebox as tkMessageBox # Error box (for WIN)\n",
    "import os\n",
    "import subprocess # Error box (for MacOS)\n",
    "from czifile import CziFile # Import .czi files\n",
    "import matplotlib.pyplot as plt # For plotting\n",
    "from matplotlib.colors import LinearSegmentedColormap # Create own colormap\n",
    "import numpy\n",
    "import numpy as np\n",
    "from shutil import copyfile # Copy file\n",
    "import cv2"
   ]
  },
  {
   "cell_type": "code",
   "execution_count": 2,
   "metadata": {},
   "outputs": [],
   "source": [
    "# Determine operation system\n",
    "# 'posix' = MacOS\n",
    "# 'nt' = WIN\n",
    "operation_sys = os.name"
   ]
  },
  {
   "cell_type": "code",
   "execution_count": 3,
   "metadata": {},
   "outputs": [],
   "source": [
    "# User input\n",
    "output_ext = '.png'\n",
    "\n",
    "\n",
    "# COLOR MAP\n",
    "# Define Color for merged label\n",
    "bg_col = tuple([x/255 for x in (64, 224, 208)])\n",
    "obj_col = tuple([x/255 for x in (255, 165, 0)])\n",
    "bound_col = tuple([x/255 for x in (255, 0, 0)])\n",
    "\n",
    "# Define Color\n",
    "colors = [obj_col, bg_col, bound_col]  # R -> G -> B\n",
    "n_bins = [1, 2, 3]  # Discretizes the interpolation into bins\n",
    "cmap_name = 'my_list'\n",
    "# Create the colormap\n",
    "cm = LinearSegmentedColormap.from_list(cmap_name, colors)\n",
    "# Fewer bins will result in \"coarser\" colomap interpolation\n",
    "#plt.imshow(rgb_label, interpolation='nearest', origin='lower', cmap=cm)\n",
    "    \n",
    "# Maybe have a list of extensions grouped\n",
    "# Check if input and label file has the same number of images"
   ]
  },
  {
   "cell_type": "code",
   "execution_count": 4,
   "metadata": {},
   "outputs": [],
   "source": [
    "# ALL DEFINED FUNCTIONS\n",
    "\n",
    "\n",
    "# Read out all directories and files\n",
    "def getListOfFiles(dirName):\n",
    "    # create a list of file and sub directories \n",
    "    # names in the given directory \n",
    "    listOfFile = os.listdir(dirName)\n",
    "    allFiles = list()\n",
    "    # Iterate over all the entries\n",
    "    for entry in listOfFile:\n",
    "        # Create full path\n",
    "        fullPath = os.path.join(dirName, entry)\n",
    "        # If entry is a directory then get the list of files in this directory \n",
    "        if os.path.isdir(fullPath):\n",
    "            allFiles = allFiles + getListOfFiles(fullPath)\n",
    "        else:\n",
    "            allFiles.append(fullPath)\n",
    "                \n",
    "    return allFiles\n",
    "\n",
    "if operation_sys == 'nt':\n",
    "    # Error box (for WIN)\n",
    "    def clicked():\n",
    "        tkMessageBox.showerror(\"Error\", \"Unequal number of input images and label.\")\n",
    "elif operation_sys == 'posix':\n",
    "    applescript = \"\"\"\n",
    "    display dialog \"Unequal number of input images and label.\" ¬\n",
    "    with title \"Error\" ¬\n",
    "    with icon caution ¬\n",
    "    buttons {\"OK\"}\n",
    "    \"\"\""
   ]
  },
  {
   "cell_type": "code",
   "execution_count": 5,
   "metadata": {},
   "outputs": [],
   "source": [
    "# Get user-specific folder selection\n",
    "root = Tk()\n",
    "root.withdraw()\n",
    "folder_selected = filedialog.askdirectory()\n",
    "# root.destroy() # Destroy root window"
   ]
  },
  {
   "cell_type": "code",
   "execution_count": 6,
   "metadata": {},
   "outputs": [],
   "source": [
    "# Get sub dir\n",
    "dir_sub = next(os.walk(folder_selected))[1]\n",
    "# Construct path\n",
    "dir_input = os.path.join( folder_selected, dir_sub[0] )\n",
    "dir_label = os.path.join( folder_selected, dir_sub[1] )"
   ]
  },
  {
   "cell_type": "code",
   "execution_count": 7,
   "metadata": {},
   "outputs": [],
   "source": [
    "# Read all files in sub dir (ignore sub-sub dir)\n",
    "dir_list_input = getListOfFiles(dir_input)\n",
    "dir_list_label = getListOfFiles(dir_label)"
   ]
  },
  {
   "cell_type": "code",
   "execution_count": 9,
   "metadata": {},
   "outputs": [],
   "source": [
    "# Check if number of input and label images are equal\n",
    "n_img = len(dir_list_input)\n",
    "n_label = len(dir_list_label)\n",
    "\n",
    "if n_img != n_label:\n",
    "    if operation_sys == 'nt':\n",
    "        root = Tk()\n",
    "        button = Button(root, text = \"show message box\", command = clicked)\n",
    "        button.pack()\n",
    "        root.mainloop()\n",
    "    elif operation_sys == 'posix':\n",
    "        subprocess.call(\"osascript -e '{}'\".format(applescript), shell=True)\n",
    "else:\n",
    "    pass"
   ]
  },
  {
   "cell_type": "code",
   "execution_count": 1,
   "metadata": {},
   "outputs": [
    {
     "ename": "NameError",
     "evalue": "name 'Tk' is not defined",
     "output_type": "error",
     "traceback": [
      "\u001b[0;31m---------------------------------------------------------------------------\u001b[0m",
      "\u001b[0;31mNameError\u001b[0m                                 Traceback (most recent call last)",
      "\u001b[0;32m<ipython-input-1-7b3f9d434730>\u001b[0m in \u001b[0;36m<module>\u001b[0;34m\u001b[0m\n\u001b[1;32m      1\u001b[0m \u001b[0;31m# Define export dir\u001b[0m\u001b[0;34m\u001b[0m\u001b[0;34m\u001b[0m\u001b[0;34m\u001b[0m\u001b[0m\n\u001b[1;32m      2\u001b[0m \u001b[0;31m# Get user-specific folder selection\u001b[0m\u001b[0;34m\u001b[0m\u001b[0;34m\u001b[0m\u001b[0;34m\u001b[0m\u001b[0m\n\u001b[0;32m----> 3\u001b[0;31m \u001b[0mroot\u001b[0m \u001b[0;34m=\u001b[0m \u001b[0mTk\u001b[0m\u001b[0;34m(\u001b[0m\u001b[0;34m)\u001b[0m\u001b[0;34m\u001b[0m\u001b[0;34m\u001b[0m\u001b[0m\n\u001b[0m\u001b[1;32m      4\u001b[0m \u001b[0mroot\u001b[0m\u001b[0;34m.\u001b[0m\u001b[0mwithdraw\u001b[0m\u001b[0;34m(\u001b[0m\u001b[0;34m)\u001b[0m\u001b[0;34m\u001b[0m\u001b[0;34m\u001b[0m\u001b[0m\n\u001b[1;32m      5\u001b[0m \u001b[0mfolder_selected_output\u001b[0m \u001b[0;34m=\u001b[0m \u001b[0mfiledialog\u001b[0m\u001b[0;34m.\u001b[0m\u001b[0maskdirectory\u001b[0m\u001b[0;34m(\u001b[0m\u001b[0;34m)\u001b[0m\u001b[0;34m\u001b[0m\u001b[0;34m\u001b[0m\u001b[0m\n",
      "\u001b[0;31mNameError\u001b[0m: name 'Tk' is not defined"
     ]
    }
   ],
   "source": [
    "# Define export dir\n",
    "# Get user-specific folder selection\n",
    "root = Tk()\n",
    "root.withdraw()\n",
    "folder_selected_output = filedialog.askdirectory()\n",
    "# root.destroy() # Destroy root window"
   ]
  },
  {
   "cell_type": "code",
   "execution_count": 11,
   "metadata": {},
   "outputs": [],
   "source": [
    "# Define Folder structure\n",
    "# Output folder\n",
    "outFolder = 'Crawler'\n",
    "# Images\n",
    "imgFolder = 'Images'\n",
    "# Labels_rgb\n",
    "labelFolderRGB = 'Labels_rgb'\n",
    "# Labels\n",
    "labelFolder = 'Labels'"
   ]
  },
  {
   "cell_type": "code",
   "execution_count": 12,
   "metadata": {},
   "outputs": [
    {
     "name": "stdout",
     "output_type": "stream",
     "text": [
      "Output: ##### Create output folder called Crawler. #####\n",
      "Output: ##### Create Image folder. #####\n",
      "Output: ##### Create Label RGB folder. #####\n",
      "Output: ##### Create Label folder. #####\n"
     ]
    }
   ],
   "source": [
    "# ------------------------------------------------------------------------------------------ #\n",
    "# Check for Folder\n",
    "\n",
    "# Output\n",
    "if os.path.exists( os.path.join(folder_selected_output, outFolder) ):\n",
    "    print('Output: ##### Output folder is available. #####')\n",
    "else:\n",
    "    os.makedirs(os.path.join(folder_selected_output, outFolder))\n",
    "    print('Output: ##### Create output folder called Crawler. #####')\n",
    "\n",
    "# Image folder\n",
    "if os.path.exists( os.path.join(folder_selected_output, outFolder, imgFolder) ):\n",
    "    print('Output: ##### Image folder is available. #####')\n",
    "else:\n",
    "    os.makedirs( os.path.join(folder_selected_output, outFolder, imgFolder) )\n",
    "    print('Output: ##### Create Image folder. #####')\n",
    "    \n",
    "# Label RGB folder\n",
    "if os.path.exists( os.path.join(folder_selected_output, outFolder, labelFolderRGB) ):\n",
    "    print('Output: ##### Label RGB folder is available. #####')\n",
    "else:\n",
    "    os.makedirs( os.path.join(folder_selected_output, outFolder, labelFolderRGB) )\n",
    "    print('Output: ##### Create Label RGB folder. #####')\n",
    "    \n",
    "# Label folder\n",
    "if os.path.exists( os.path.join(folder_selected_output, outFolder, labelFolder) ):\n",
    "    print('Output: ##### Label folder is available. #####')\n",
    "else:\n",
    "    os.makedirs( os.path.join(folder_selected_output, outFolder, labelFolder) )\n",
    "    print('Output: ##### Create Label folder. #####')\n",
    "# ------------------------------------------------------------------------------------------ #\n"
   ]
  },
  {
   "cell_type": "code",
   "execution_count": 13,
   "metadata": {},
   "outputs": [],
   "source": [
    "for ii in range( 0, n_img ):\n",
    "    ### Check input images\n",
    "    # Obtain filename\n",
    "    th_fname_input = os.path.basename(dir_list_input[ii])\n",
    "    # Obtain case-insensitive extension\n",
    "    if th_fname_input.lower().endswith('.czi'):\n",
    "        # Load czi file\n",
    "        with CziFile(dir_list_input[ii]) as czi: img_input = czi.asarray()\n",
    "        # Remove 1D array\n",
    "        img_input = numpy.squeeze(img_input)\n",
    "        # Get only filename without path or extension\n",
    "        fname_only_input = os.path.splitext(th_fname_input)[0]\n",
    "        # Save image to .png\n",
    "        cv2.imwrite(os.path.join(folder_selected_output, outFolder, imgFolder, fname_only + output_ext), img_input)\n",
    "    else:\n",
    "        copyfile( dir_list_input[ii], os.path.join(folder_selected_output, outFolder, imgFolder, th_fname_input) )\n",
    "    \n",
    "    ### Check labels\n",
    "    \n",
    "    # Obtain filename\n",
    "    th_fname_label = os.path.basename(dir_list_label[ii])\n",
    "    # Obtain case-insensitive extension\n",
    "    if th_fname_label.lower().endswith('.czi'):\n",
    "        # Load czi file`\n",
    "        with CziFile(dir_list_label[ii]) as czi: img_label = czi.asarray()\n",
    "        # Remove 1D array\n",
    "        img_label = numpy.squeeze(img_label)\n",
    "        # Get only filename without path or extension\n",
    "        fname_only_label = os.path.splitext(th_fname_label)[0]\n",
    "        # Save label to .png with 2 different format\n",
    "        # 1. RGB, 2. Keep annotation e.g. 0 = Background, 1 = Foreground, 2 = Object\n",
    "        cv2.imwrite(os.path.join(folder_selected_output, outFolder, labelFolder, fname_only_label + output_ext), img_label)        \n",
    "        # Convert label to RGB \n",
    "        plt.imsave(os.path.join(folder_selected_output, outFolder, labelFolderRGB, fname_only_label + output_ext), img_label, cmap=cm)\n",
    "    else:\n",
    "        copyfile( dir_list_label[ii], os.path.join(folder_selected_output, outFolder, labelFolder, th_fname_label) )\n"
   ]
  },
  {
   "cell_type": "code",
   "execution_count": null,
   "metadata": {},
   "outputs": [],
   "source": []
  },
  {
   "cell_type": "code",
   "execution_count": null,
   "metadata": {},
   "outputs": [],
   "source": []
  },
  {
   "cell_type": "code",
   "execution_count": null,
   "metadata": {},
   "outputs": [],
   "source": []
  },
  {
   "cell_type": "code",
   "execution_count": null,
   "metadata": {},
   "outputs": [],
   "source": []
  }
 ],
 "metadata": {
  "kernelspec": {
   "display_name": "Python 3",
   "language": "python",
   "name": "python3"
  },
  "language_info": {
   "codemirror_mode": {
    "name": "ipython",
    "version": 3
   },
   "file_extension": ".py",
   "mimetype": "text/x-python",
   "name": "python",
   "nbconvert_exporter": "python",
   "pygments_lexer": "ipython3",
   "version": "3.7.4"
  }
 },
 "nbformat": 4,
 "nbformat_minor": 2
}
