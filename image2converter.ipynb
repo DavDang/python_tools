{
 "cells": [
  {
   "cell_type": "code",
   "execution_count": 2,
   "metadata": {},
   "outputs": [],
   "source": [
    "# Tool to craw all files with a specific extension from a directory and subdirectories\n",
    "\n",
    "# Load dependancies\n",
    "from tkinter import filedialog\n",
    "from tkinter import * # File dialog\n",
    "import os\n",
    "import matplotlib.pyplot as plt # For plotting\n",
    "import cv2\n",
    "import glob # For importing multiple files"
   ]
  },
  {
   "cell_type": "code",
   "execution_count": 20,
   "metadata": {},
   "outputs": [],
   "source": [
    "# User input\n",
    "\n",
    "# Select file type for export\n",
    "select_ext = ('*.png', '*.tiff', '*.tif', '*.jpg')\n",
    "output_ext = '.png'\n"
   ]
  },
  {
   "cell_type": "code",
   "execution_count": 4,
   "metadata": {},
   "outputs": [],
   "source": [
    "# Get user-specific folder selection\n",
    "%gui tk\n",
    "root = Tk()\n",
    "root.withdraw()\n",
    "root.update()\n",
    "folder_selected = filedialog.askdirectory()\n",
    "root.destroy() # Destroy root window"
   ]
  },
  {
   "cell_type": "code",
   "execution_count": 15,
   "metadata": {},
   "outputs": [
    {
     "name": "stdout",
     "output_type": "stream",
     "text": [
      "Output: ##### Output folder is available. #####\n"
     ]
    }
   ],
   "source": [
    "# ------------------------------------------------------------------------------------------ #\n",
    "# Define Folder structure\n",
    "# Output folder\n",
    "outFolder = 'png'\n",
    "\n",
    "# Check for Folder\n",
    "outFolder_full = os.path.join(folder_selected, outFolder)\n",
    "# Output\n",
    "if os.path.exists( outFolder_full ):\n",
    "    print('Output: ##### Output folder is available. #####')\n",
    "else:\n",
    "    os.makedirs( outFolder_full )\n",
    "    print('Output: ##### Create output folder called renamed. #####')\n",
    "# ------------------------------------------------------------------------------------------ #\n",
    "# Create a list with all loaded files\n",
    "listFiles = []\n",
    "for files in select_ext:\n",
    "    listFiles.extend( glob.glob( os.path.join(folder_selected, files) ) )"
   ]
  },
  {
   "cell_type": "code",
   "execution_count": 21,
   "metadata": {},
   "outputs": [
    {
     "name": "stdout",
     "output_type": "stream",
     "text": [
      "Output: ##### Converted and saved: 1 out of 10 images. #####\n",
      "Output: ##### Converted and saved: 2 out of 10 images. #####\n",
      "Output: ##### Converted and saved: 3 out of 10 images. #####\n",
      "Output: ##### Converted and saved: 4 out of 10 images. #####\n",
      "Output: ##### Converted and saved: 5 out of 10 images. #####\n",
      "Output: ##### Converted and saved: 6 out of 10 images. #####\n",
      "Output: ##### Converted and saved: 7 out of 10 images. #####\n",
      "Output: ##### Converted and saved: 8 out of 10 images. #####\n",
      "Output: ##### Converted and saved: 9 out of 10 images. #####\n",
      "Output: ##### Converted and saved: 10 out of 10 images. #####\n",
      "Output: ##### Converting images completed. #####\n"
     ]
    }
   ],
   "source": [
    "# Get number of images from list\n",
    "n_img = len(listFiles)\n",
    "counter = 0\n",
    "for ii in range (0, n_img):\n",
    "    counter = counter + 1\n",
    "    # Get file path from list\n",
    "    filename = listFiles[ii]\n",
    "    # Read image\n",
    "    img = cv2.imread(filename)\n",
    "    # Get filname without path\n",
    "    th_fname = os.path.basename(filename)\n",
    "    # Get only filename without path or extension\n",
    "    fname_only = os.path.splitext(th_fname)[0]\n",
    "    # Swap BGR to RGB\n",
    "    rgb_img = cv2.cvtColor(img, cv2.COLOR_BGR2RGB)\n",
    "    # Create new filename\n",
    "    rename = fname_only + output_ext\n",
    "    # Export\n",
    "    cv2.imwrite(os.path.join(outFolder_full, rename), rgb_img)\n",
    "    print('Output: ##### Converted and saved: %d out of %d images. #####' % (counter, n_img) ) \n",
    "    \n",
    "print('Output: ##### Converting images completed. #####')"
   ]
  },
  {
   "cell_type": "code",
   "execution_count": 16,
   "metadata": {},
   "outputs": [
    {
     "data": {
      "text/plain": [
       "['/Users/daviddang/Dropbox/Zeiss/customer_projects/invista/LABELS/HollowFill/img/img (4).tiff',\n",
       " '/Users/daviddang/Dropbox/Zeiss/customer_projects/invista/LABELS/HollowFill/img/img (6).tiff',\n",
       " '/Users/daviddang/Dropbox/Zeiss/customer_projects/invista/LABELS/HollowFill/img/img (2).tiff',\n",
       " '/Users/daviddang/Dropbox/Zeiss/customer_projects/invista/LABELS/HollowFill/img/img (7).tiff',\n",
       " '/Users/daviddang/Dropbox/Zeiss/customer_projects/invista/LABELS/HollowFill/img/img (5).tiff',\n",
       " '/Users/daviddang/Dropbox/Zeiss/customer_projects/invista/LABELS/HollowFill/img/img (1).tiff',\n",
       " '/Users/daviddang/Dropbox/Zeiss/customer_projects/invista/LABELS/HollowFill/img/img (3).tiff',\n",
       " '/Users/daviddang/Dropbox/Zeiss/customer_projects/invista/LABELS/HollowFill/img/img (9).tiff',\n",
       " '/Users/daviddang/Dropbox/Zeiss/customer_projects/invista/LABELS/HollowFill/img/img (10).tiff',\n",
       " '/Users/daviddang/Dropbox/Zeiss/customer_projects/invista/LABELS/HollowFill/img/img (8).tiff']"
      ]
     },
     "execution_count": 16,
     "metadata": {},
     "output_type": "execute_result"
    }
   ],
   "source": [
    "listFiles"
   ]
  },
  {
   "cell_type": "code",
   "execution_count": null,
   "metadata": {},
   "outputs": [],
   "source": []
  },
  {
   "cell_type": "code",
   "execution_count": null,
   "metadata": {},
   "outputs": [],
   "source": []
  }
 ],
 "metadata": {
  "kernelspec": {
   "display_name": "Python 3",
   "language": "python",
   "name": "python3"
  },
  "language_info": {
   "codemirror_mode": {
    "name": "ipython",
    "version": 3
   },
   "file_extension": ".py",
   "mimetype": "text/x-python",
   "name": "python",
   "nbconvert_exporter": "python",
   "pygments_lexer": "ipython3",
   "version": "3.7.5"
  }
 },
 "nbformat": 4,
 "nbformat_minor": 2
}
